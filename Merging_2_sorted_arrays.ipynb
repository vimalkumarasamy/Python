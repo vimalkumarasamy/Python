{
  "nbformat": 4,
  "nbformat_minor": 0,
  "metadata": {
    "colab": {
      "name": "Merging 2 sorted arrays.ipynb",
      "provenance": [],
      "collapsed_sections": [],
      "authorship_tag": "ABX9TyPvEKN0PDL2UAjbg3PGYjb8",
      "include_colab_link": true
    },
    "kernelspec": {
      "name": "python3",
      "display_name": "Python 3"
    }
  },
  "cells": [
    {
      "cell_type": "markdown",
      "metadata": {
        "id": "view-in-github",
        "colab_type": "text"
      },
      "source": [
        "<a href=\"https://colab.research.google.com/github/vimalkumarasamy/Python/blob/master/Merging_2_sorted_arrays.ipynb\" target=\"_parent\"><img src=\"https://colab.research.google.com/assets/colab-badge.svg\" alt=\"Open In Colab\"/></a>"
      ]
    },
    {
      "cell_type": "code",
      "metadata": {
        "id": "kl47B7PLVH8Q",
        "colab_type": "code",
        "colab": {}
      },
      "source": [
        "def merge(a,b):\n",
        "  \"\"\"This function merges 2 sorted arrays in liner time O(n1+n2)\"\"\"\n",
        "  c,i,j,n1,n2=[],0,0,len(a),len(b)\n",
        "  while i<n1 and j<n2:\n",
        "    if a[i]<b[j]:\n",
        "      c=c+[a[i]]\n",
        "      i+=1\n",
        "    else:\n",
        "      c=c+[b[j]]\n",
        "      j+=1\n",
        "  if i==n1:\n",
        "    c+=b[j:n2]\n",
        "  if j==n2:\n",
        "    c+=a[i:n1]\n",
        "  return(c)"
      ],
      "execution_count": 0,
      "outputs": []
    },
    {
      "cell_type": "code",
      "metadata": {
        "id": "VW50S7hvVS8o",
        "colab_type": "code",
        "colab": {
          "base_uri": "https://localhost:8080/",
          "height": 35
        },
        "outputId": "b2fffc62-a878-4dd6-c9e0-901e684e78a3"
      },
      "source": [
        "merge([1,2,3],[6,7,8])"
      ],
      "execution_count": 3,
      "outputs": [
        {
          "output_type": "execute_result",
          "data": {
            "text/plain": [
              "[1, 2, 3, 6, 7, 8]"
            ]
          },
          "metadata": {
            "tags": []
          },
          "execution_count": 3
        }
      ]
    },
    {
      "cell_type": "code",
      "metadata": {
        "id": "OB_sD6rWVU94",
        "colab_type": "code",
        "colab": {}
      },
      "source": [
        ""
      ],
      "execution_count": 0,
      "outputs": []
    }
  ]
}