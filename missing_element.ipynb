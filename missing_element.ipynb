{
  "nbformat": 4,
  "nbformat_minor": 0,
  "metadata": {
    "colab": {
      "name": "missing_element.ipynb",
      "provenance": [],
      "collapsed_sections": [],
      "authorship_tag": "ABX9TyMbYUh0jGLhmVdX9h+gkyhH",
      "include_colab_link": true
    },
    "kernelspec": {
      "name": "python3",
      "display_name": "Python 3"
    }
  },
  "cells": [
    {
      "cell_type": "markdown",
      "metadata": {
        "id": "view-in-github",
        "colab_type": "text"
      },
      "source": [
        "<a href=\"https://colab.research.google.com/github/vimalkumarasamy/Python/blob/master/missing_element.ipynb\" target=\"_parent\"><img src=\"https://colab.research.google.com/assets/colab-badge.svg\" alt=\"Open In Colab\"/></a>"
      ]
    },
    {
      "cell_type": "code",
      "metadata": {
        "id": "od4awtsZyXZA",
        "colab_type": "code",
        "colab": {}
      },
      "source": [
        "import numpy as np\n",
        "import math"
      ],
      "execution_count": 0,
      "outputs": []
    },
    {
      "cell_type": "code",
      "metadata": {
        "id": "ll96sHW3ydA-",
        "colab_type": "code",
        "colab": {}
      },
      "source": [
        "def find_missing(A,l,r):\n",
        "  # print(l,r)\n",
        "  if r-l==1:\n",
        "    if A[r]-A[l]==1:\n",
        "      return 'No Miss'\n",
        "    elif A[r]-A[l]==2:\n",
        "      return A[r]-1\n",
        "  elif r-l>1:\n",
        "    mid=l+math.ceil((r-l)/2)\n",
        "    if A[mid]==A[l]+mid-l:\n",
        "      l=mid\n",
        "      miss=find_missing(A,l,r)\n",
        "    else:\n",
        "      r=mid\n",
        "      miss=find_missing(A,l,r)\n",
        "  return(miss)"
      ],
      "execution_count": 0,
      "outputs": []
    },
    {
      "cell_type": "code",
      "metadata": {
        "id": "aGKcihmPyvTr",
        "colab_type": "code",
        "colab": {
          "base_uri": "https://localhost:8080/",
          "height": 34
        },
        "outputId": "8c3c4151-1403-46fd-e63d-4ba94b4704d1"
      },
      "source": [
        "find_missing([11,12,13,14,15,16,17,18,19,20],0,9)"
      ],
      "execution_count": 35,
      "outputs": [
        {
          "output_type": "execute_result",
          "data": {
            "text/plain": [
              "'No Miss'"
            ]
          },
          "metadata": {
            "tags": []
          },
          "execution_count": 35
        }
      ]
    },
    {
      "cell_type": "code",
      "metadata": {
        "id": "F36nIZtPDS69",
        "colab_type": "code",
        "colab": {}
      },
      "source": [
        ""
      ],
      "execution_count": 0,
      "outputs": []
    }
  ]
}