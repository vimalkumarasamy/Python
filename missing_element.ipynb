{
  "nbformat": 4,
  "nbformat_minor": 0,
  "metadata": {
    "colab": {
      "name": "missing_element.ipynb",
      "provenance": [],
      "collapsed_sections": [],
      "authorship_tag": "ABX9TyMvU8Lqh5hAT8o6z5D3o7fS",
      "include_colab_link": true
    },
    "kernelspec": {
      "name": "python3",
      "display_name": "Python 3"
    }
  },
  "cells": [
    {
      "cell_type": "markdown",
      "metadata": {
        "id": "view-in-github",
        "colab_type": "text"
      },
      "source": [
        "<a href=\"https://colab.research.google.com/github/vimalkumarasamy/Python/blob/master/missing_element.ipynb\" target=\"_parent\"><img src=\"https://colab.research.google.com/assets/colab-badge.svg\" alt=\"Open In Colab\"/></a>"
      ]
    },
    {
      "cell_type": "code",
      "metadata": {
        "id": "od4awtsZyXZA",
        "colab_type": "code",
        "colab": {}
      },
      "source": [
        "import numpy as np\n",
        "import math"
      ],
      "execution_count": 0,
      "outputs": []
    },
    {
      "cell_type": "code",
      "metadata": {
        "id": "ll96sHW3ydA-",
        "colab_type": "code",
        "colab": {}
      },
      "source": [
        "def find_missing(A,l,r):\n",
        "  \"\"\"This function recursively solves for the missing number in a given contiguous array\"\"\"\n",
        "  # This is the base case, if an array of length 2 is passed, if the difference is 1 then we return 'no miss'\n",
        "  if r-l==1:\n",
        "    if A[r]-A[l]==1:\n",
        "      return False\n",
        "    elif A[r]-A[l]==2:\n",
        "      # if the difference is more than 1, we are certain that the element before A[r] is missing,so we return A[r]-1\n",
        "      return A[r]-1\n",
        "      # if the array that is passed is more than 2 length, we can break it further\n",
        "  elif r-l>1:\n",
        "    # mid is the element that is offset from l by (r-l)/2 units\n",
        "    mid=l+math.ceil((r-l)/2)\n",
        "    # if the mid element is correctly placed, then the missing element is on the right\n",
        "    if A[mid]==A[l]+mid-l:\n",
        "      l=mid\n",
        "      miss=find_missing(A,l,r)\n",
        "    # if mid element is not correctly placed, then the missing element is on the left\n",
        "    else:\n",
        "      r=mid\n",
        "      miss=find_missing(A,l,r)\n",
        "  return(miss)"
      ],
      "execution_count": 0,
      "outputs": []
    },
    {
      "cell_type": "code",
      "metadata": {
        "id": "aGKcihmPyvTr",
        "colab_type": "code",
        "colab": {
          "base_uri": "https://localhost:8080/",
          "height": 34
        },
        "outputId": "099ef959-ce0c-43bc-934e-deaf50f4c7cf"
      },
      "source": [
        "find_missing([11,12,13,14,15,16,17,18,19,20],0,9)"
      ],
      "execution_count": 38,
      "outputs": [
        {
          "output_type": "execute_result",
          "data": {
            "text/plain": [
              "False"
            ]
          },
          "metadata": {
            "tags": []
          },
          "execution_count": 38
        }
      ]
    },
    {
      "cell_type": "code",
      "metadata": {
        "id": "F36nIZtPDS69",
        "colab_type": "code",
        "colab": {
          "base_uri": "https://localhost:8080/",
          "height": 34
        },
        "outputId": "32dc3e30-042a-43fb-a726-a6a5d9b4812f"
      },
      "source": [
        "find_missing([11,12,13,15,16,17,18,19,20],0,8)"
      ],
      "execution_count": 39,
      "outputs": [
        {
          "output_type": "execute_result",
          "data": {
            "text/plain": [
              "14"
            ]
          },
          "metadata": {
            "tags": []
          },
          "execution_count": 39
        }
      ]
    },
    {
      "cell_type": "code",
      "metadata": {
        "id": "XQcyxACOGgWi",
        "colab_type": "code",
        "colab": {}
      },
      "source": [
        ""
      ],
      "execution_count": 0,
      "outputs": []
    }
  ]
}