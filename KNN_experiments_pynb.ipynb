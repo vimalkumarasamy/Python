{
  "nbformat": 4,
  "nbformat_minor": 0,
  "metadata": {
    "colab": {
      "name": "KNN experiments.pynb",
      "provenance": [],
      "collapsed_sections": [],
      "authorship_tag": "ABX9TyNaVQkh91mrCcH+JIV35sEJ",
      "include_colab_link": true
    },
    "kernelspec": {
      "name": "python3",
      "display_name": "Python 3"
    }
  },
  "cells": [
    {
      "cell_type": "markdown",
      "metadata": {
        "id": "view-in-github",
        "colab_type": "text"
      },
      "source": [
        "<a href=\"https://colab.research.google.com/github/vimalkumarasamy/Python/blob/master/KNN_experiments_pynb.ipynb\" target=\"_parent\"><img src=\"https://colab.research.google.com/assets/colab-badge.svg\" alt=\"Open In Colab\"/></a>"
      ]
    },
    {
      "cell_type": "code",
      "metadata": {
        "id": "9ePA832SGv6Z",
        "colab_type": "code",
        "colab": {}
      },
      "source": [
        "x=[]\n",
        "for i in ['a','b','c']:\n",
        "  for j in ['a','b','c']:\n",
        "    for k in ['a','b','c']:\n",
        "      x=x+[[i,j,k]]\n",
        "\n"
      ],
      "execution_count": 0,
      "outputs": []
    },
    {
      "cell_type": "code",
      "metadata": {
        "id": "TD4T2y3UO7Qk",
        "colab_type": "code",
        "colab": {
          "base_uri": "https://localhost:8080/",
          "height": 225
        },
        "outputId": "af828571-0d55-4be4-9627-248adcc6bc3a"
      },
      "source": [
        "final=0\n",
        "items=[]\n",
        "for item in x: \n",
        "  cnt=0\n",
        "  for y in item: \n",
        "    if y=='b':\n",
        "      cnt+=1\n",
        "  if cnt==1:\n",
        "    items+=[item]\n",
        "items"
      ],
      "execution_count": 52,
      "outputs": [
        {
          "output_type": "execute_result",
          "data": {
            "text/plain": [
              "[['a', 'a', 'b'],\n",
              " ['a', 'b', 'a'],\n",
              " ['a', 'b', 'c'],\n",
              " ['a', 'c', 'b'],\n",
              " ['b', 'a', 'a'],\n",
              " ['b', 'a', 'c'],\n",
              " ['b', 'c', 'a'],\n",
              " ['b', 'c', 'c'],\n",
              " ['c', 'a', 'b'],\n",
              " ['c', 'b', 'a'],\n",
              " ['c', 'b', 'c'],\n",
              " ['c', 'c', 'b']]"
            ]
          },
          "metadata": {
            "tags": []
          },
          "execution_count": 52
        }
      ]
    },
    {
      "cell_type": "code",
      "metadata": {
        "id": "ASc0rki7Q0op",
        "colab_type": "code",
        "colab": {
          "base_uri": "https://localhost:8080/",
          "height": 243
        },
        "outputId": "32bac45d-abbd-4a7b-a956-3c42ba8ab3e1"
      },
      "source": [
        "pct={'a':0.1,'b':0.8,'c':0.1}\n",
        "overall=0\n",
        "for i in items: \n",
        "  print(i)\n",
        "  prob=pct[i[0]] * pct[i[1]] * pct[i[2]]\n",
        "  overall+=prob \n",
        "overall\n",
        "\n"
      ],
      "execution_count": 53,
      "outputs": [
        {
          "output_type": "stream",
          "text": [
            "['a', 'a', 'b']\n",
            "['a', 'b', 'a']\n",
            "['a', 'b', 'c']\n",
            "['a', 'c', 'b']\n",
            "['b', 'a', 'a']\n",
            "['b', 'a', 'c']\n",
            "['b', 'c', 'a']\n",
            "['b', 'c', 'c']\n",
            "['c', 'a', 'b']\n",
            "['c', 'b', 'a']\n",
            "['c', 'b', 'c']\n",
            "['c', 'c', 'b']\n"
          ],
          "name": "stdout"
        },
        {
          "output_type": "execute_result",
          "data": {
            "text/plain": [
              "0.09600000000000004"
            ]
          },
          "metadata": {
            "tags": []
          },
          "execution_count": 53
        }
      ]
    }
  ]
}