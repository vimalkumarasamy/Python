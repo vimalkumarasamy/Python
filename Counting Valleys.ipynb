{
 "cells": [
  {
   "cell_type": "markdown",
   "metadata": {},
   "source": [
    "Gary is an avid hiker. He tracks his hikes meticulously, paying close attention to small details like topography. During his last hike he took exactly  steps. For every step he took, he noted if it was an uphill, , or a downhill,  step. Gary's hikes start and end at sea level and each step up or down represents a  unit change in altitude. We define the following terms:\n",
    "\n",
    "A mountain is a sequence of consecutive steps above sea level, starting with a step up from sea level and ending with a step down to sea level.\n",
    "A valley is a sequence of consecutive steps below sea level, starting with a step down from sea level and ending with a step up to sea level.\n",
    "Given Gary's sequence of up and down steps during his last hike, find and print the number of valleys he walked through.\n",
    "\n",
    "For example, if Gary's path is , he first enters a valley  units deep. Then he climbs out an up onto a mountain  units high. Finally, he returns to sea level and ends his hike.\n",
    "\n",
    "Function Description\n",
    "\n",
    "Complete the countingValleys function in the editor below. It must return an integer that denotes the number of valleys Gary traversed.\n",
    "\n",
    "countingValleys has the following parameter(s):\n",
    "\n",
    "n: the number of steps Gary takes\n",
    "s: a string describing his path\n",
    "Input Format\n",
    "\n",
    "The first line contains an integer , the number of steps in Gary's hike.\n",
    "The second line contains a single string , of  characters that describe his path.\n",
    "\n",
    "Constraints\n",
    "\n",
    "Output Format\n",
    "\n",
    "Print a single integer that denotes the number of valleys Gary walked through during his hike.\n",
    "\n",
    "Sample Input\n",
    "\n",
    "8\n",
    "UDDDUDUU\n",
    "Sample Output\n",
    "\n",
    "1\n",
    "Explanation\n",
    "\n",
    "If we represent _ as sea level, a step up as /, and a step down as \\, Gary's hike can be drawn as:\n",
    "\n",
    "_/\\      _\n",
    "   \\    /\n",
    "    \\/\\/\n",
    "He enters and leaves one valley."
   ]
  },
  {
   "cell_type": "code",
   "execution_count": 27,
   "metadata": {},
   "outputs": [],
   "source": [
    "def countingValleys(n, s):\n",
    "    alt=0\n",
    "    valleys=0\n",
    "    alt_array=[alt]*len(s)\n",
    "    for i in range(0,len(s)):\n",
    "        if s[i]=='D':\n",
    "            alt=alt-1\n",
    "#             print(alt)\n",
    "            alt_array[i]=alt\n",
    "#             print(alt)\n",
    "        elif s[i]=='U':\n",
    "            alt=alt+1\n",
    "            alt_array[i]=alt\n",
    "#             print(alt)\n",
    "    print(alt_array)\n",
    "    for j in range(0,len(alt_array)):\n",
    "        try:\n",
    "            if(alt_array[j]<0) and alt_array[j+1]==0:\n",
    "                valleys+=1\n",
    "        except:\n",
    "            pass\n",
    "                    \n",
    "    \n",
    "    return(valleys)\n",
    "    "
   ]
  },
  {
   "cell_type": "code",
   "execution_count": 28,
   "metadata": {},
   "outputs": [
    {
     "name": "stdout",
     "output_type": "stream",
     "text": [
      "[1, 0, -1, -2, -1, -2, -1, 0]\n"
     ]
    },
    {
     "data": {
      "text/plain": [
       "1"
      ]
     },
     "execution_count": 28,
     "metadata": {},
     "output_type": "execute_result"
    }
   ],
   "source": [
    "countingValleys(10,'UDDDUDUU')"
   ]
  }
 ],
 "metadata": {
  "kernelspec": {
   "display_name": "Python 3",
   "language": "python",
   "name": "python3"
  },
  "language_info": {
   "codemirror_mode": {
    "name": "ipython",
    "version": 3
   },
   "file_extension": ".py",
   "mimetype": "text/x-python",
   "name": "python",
   "nbconvert_exporter": "python",
   "pygments_lexer": "ipython3",
   "version": "3.7.3"
  }
 },
 "nbformat": 4,
 "nbformat_minor": 2
}
