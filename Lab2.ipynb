{
 "cells": [
  {
   "cell_type": "markdown",
   "metadata": {},
   "source": [
    "Before you turn this problem in, make sure everything runs as expected. First, **restart the kernel** (in the menubar, select Kernel$\\rightarrow$Restart) and then **run all cells** (in the menubar, select Cell$\\rightarrow$Run All).\n",
    "\n",
    "Make sure you fill in any place that says `YOUR CODE HERE` or \"YOUR ANSWER HERE\", as well as your name and collaborators below:"
   ]
  },
  {
   "cell_type": "code",
   "execution_count": 314,
   "metadata": {},
   "outputs": [],
   "source": [
    "NAME = \"Vimal Kumar Kumarasamy\"\n",
    "COLLABORATORS = \"Nikita Goswami\""
   ]
  },
  {
   "cell_type": "markdown",
   "metadata": {},
   "source": [
    "---"
   ]
  },
  {
   "cell_type": "markdown",
   "metadata": {
    "deletable": false,
    "editable": false,
    "nbgrader": {
     "cell_type": "markdown",
     "checksum": "12b7e2cd4d9ae91a5a8db73dc8027335",
     "grade": false,
     "grade_id": "cell-871e03f0ab421082",
     "locked": true,
     "schema_version": 3,
     "solution": false,
     "task": false
    }
   },
   "source": [
    "# Lab 2 Introduction\n",
    "\n",
    "\n",
    "In this lab you will use parse a vcf file to extracts parts of it and load it into a database. \n",
    "The fields you will be parsing from the vcf file are: \n",
    "```\n",
    "CHROM\n",
    "POS\t\n",
    "ID\t\n",
    "REF\t\n",
    "ALT\t\n",
    "QUAL\t\n",
    "FILTER\n",
    "```\n",
    "and from the INFO column, the following fields:\n",
    "```\n",
    "1000g2015aug_all\n",
    "ExAC_ALL\n",
    "FATHMM_pred\n",
    "LRT_pred\n",
    "MetaLR_pred\n",
    "MetaSVM_pred\n",
    "MutationAssessor_pred\n",
    "MutationTaster_pred\n",
    "PROVEAN_pred\n",
    "Polyphen2_HDIV_pred\n",
    "Polyphen2_HVAR_pred\n",
    "SIFT_pred\n",
    "fathmm-MKL_coding_pred.\n",
    "```\n",
    "The fields:\n",
    "```\n",
    "FATHMM_pred\n",
    "LRT_pred\n",
    "MetaLR_pred\n",
    "MetaSVM_pred\n",
    "MutationAssessor_pred\n",
    "MutationTaster_pred\n",
    "PROVEAN_pred\n",
    "Polyphen2_HDIV_pred\n",
    "Polyphen2_HVAR_pred\n",
    "SIFT_pred\n",
    "fathmm-MKL_coding_pred\n",
    "```\n",
    "are predictor fields. They use a letter to indicate whether a given variation is harmful or not.\n",
    "\n",
    "NOTE: use the helper functions in cell2. To use them, you have to run CELL 2! \n"
   ]
  },
  {
   "cell_type": "code",
   "execution_count": 315,
   "metadata": {
    "deletable": false,
    "editable": false,
    "nbgrader": {
     "cell_type": "code",
     "checksum": "426d1dc6b36f5faa3f8057e38cfe1772",
     "grade": false,
     "grade_id": "cell-feb13f7a74dea8c4",
     "locked": true,
     "schema_version": 3,
     "solution": false,
     "task": false
    }
   },
   "outputs": [],
   "source": [
    "## Helper functions\n",
    "\n",
    "import os\n",
    "import sqlite3\n",
    "from sqlite3 import Error\n",
    "import gzip\n",
    "\n",
    "def create_connection(db_file, delete_db=False):\n",
    "    if delete_db and os.path.exists(db_file):\n",
    "        os.remove(db_file)\n",
    "    conn = None\n",
    "    try:\n",
    "        conn = sqlite3.connect(db_file)\n",
    "        conn.execute(\"PRAGMA foreign_keys = 1\")\n",
    "    except Error as e:\n",
    "        print(e)\n",
    "\n",
    "    return conn\n",
    "\n",
    "\n",
    "def create_table(conn, create_table_sql):\n",
    "    try:\n",
    "        c = conn.cursor()\n",
    "        c.execute(create_table_sql)\n",
    "    except Error as e:\n",
    "        print(e)\n",
    "\n"
   ]
  },
  {
   "cell_type": "markdown",
   "metadata": {
    "deletable": false,
    "editable": false,
    "nbgrader": {
     "cell_type": "markdown",
     "checksum": "36cb99791ce23b9f9113fc6870c1cd39",
     "grade": false,
     "grade_id": "cell-61ba7bcac2d80e58",
     "locked": true,
     "schema_version": 3,
     "solution": false,
     "task": false
    }
   },
   "source": [
    "# Part 1 (10 pts)\n",
    "\n",
    "In part1 you will open the gzipped vcf file using the python gzip module and figure out all the possible values for the predictor fields. \n",
    "\n",
    "You do not have to unzip the file. Use `with gzip.open(filename,'rt') as fp:` to read one line at a time. \n",
    "\n"
   ]
  },
  {
   "cell_type": "code",
   "execution_count": 106,
   "metadata": {
    "deletable": false,
    "nbgrader": {
     "cell_type": "code",
     "checksum": "8177d929dc2e030a3e56658d1bc0a399",
     "grade": false,
     "grade_id": "cell-6220a32f79b3dbc2",
     "locked": false,
     "schema_version": 3,
     "solution": true,
     "task": false
    }
   },
   "outputs": [],
   "source": [
    "def get_predictor_values(filename):\n",
    "    \"\"\"\n",
    "    See part 1 description \n",
    "    \"\"\"\n",
    "    import gzip\n",
    "\n",
    "   \n",
    "    keys_save_value = [\n",
    "        'FATHMM_pred',\n",
    "        'LRT_pred',\n",
    "        'MetaLR_pred',\n",
    "        'MetaSVM_pred',\n",
    "        'MutationAssessor_pred',\n",
    "        'MutationTaster_pred',\n",
    "        'PROVEAN_pred',\n",
    "        'Polyphen2_HDIV_pred',\n",
    "        'Polyphen2_HVAR_pred',\n",
    "        'SIFT_pred',\n",
    "        'fathmm-MKL_coding_pred',\n",
    "    ]\n",
    "\n",
    "    # YOUR CODE HERE\n",
    "    values=[]\n",
    "    predictors=[]\n",
    "    for items in keys_save_value:\n",
    "        predictors.append([])\n",
    "    final_dict=dict(zip(keys_save_value,predictors))\n",
    "    \n",
    "    with gzip.open(filename,'rt') as fp:\n",
    "        for record in fp:\n",
    "            if not record.startswith ('#'):\n",
    "                values=record.strip().split('\\t')\n",
    "                info=values[7]\n",
    "                items=info.strip().split(';')\n",
    "                for item in items:\n",
    "                    dict_items=item.split('=')\n",
    "                    if dict_items[0] in final_dict.keys():\n",
    "                        if len(dict_items)>1:\n",
    "                            if dict_items[1] != '.':\n",
    "                                if dict_items[1] not in final_dict[dict_items[0]]:\n",
    "                                    final_dict[dict_items[0]].append(dict_items[1])\n",
    "                                \n",
    "                            \n",
    "                    \n",
    "                #master.append(values)\n",
    "    return(final_dict)\n",
    "    \n",
    "# filename = 'test_4families_annovar.vcf.gz'\n",
    "# line=get_predictor_values(filename)\n",
    "    \n",
    "    # raise NotImplementedError()\n"
   ]
  },
  {
   "cell_type": "code",
   "execution_count": 107,
   "metadata": {
    "deletable": false,
    "editable": false,
    "nbgrader": {
     "cell_type": "code",
     "checksum": "516936ec4947c069cb1abe1becfd97ff",
     "grade": true,
     "grade_id": "cell-70269f3e534eaa6a",
     "locked": true,
     "points": 10,
     "schema_version": 3,
     "solution": false,
     "task": false
    }
   },
   "outputs": [],
   "source": [
    "\n",
    "## Can take 30 seconds to run!\n",
    "expected_solution = {'SIFT_pred': ['D', 'T'], 'Polyphen2_HDIV_pred': ['D', 'B', 'P'], 'Polyphen2_HVAR_pred': ['D', 'B', 'P'], 'LRT_pred': ['D', 'N', 'U'], 'MutationTaster_pred': ['D', 'P', 'N', 'A'], 'MutationAssessor_pred': ['H', 'N', 'L', 'M'], 'FATHMM_pred': ['T', 'D'], 'PROVEAN_pred': ['D', 'N'], 'MetaSVM_pred': ['D', 'T'], 'MetaLR_pred': ['D', 'T'], 'fathmm-MKL_coding_pred': ['D', 'N']}\n",
    "filename = 'test_4families_annovar.vcf.gz'\n",
    "predictor_values = get_predictor_values(filename)\n",
    "assert predictor_values == expected_solution\n",
    "\n"
   ]
  },
  {
   "cell_type": "code",
   "execution_count": 316,
   "metadata": {},
   "outputs": [
    {
     "data": {
      "text/plain": [
       "{'FATHMM_pred': ['D', 'T'],\n",
       " 'LRT_pred': ['D', 'N', 'U'],\n",
       " 'MetaLR_pred': ['D', 'T'],\n",
       " 'MetaSVM_pred': ['D', 'T'],\n",
       " 'MutationAssessor_pred': ['H', 'L', 'M', 'N'],\n",
       " 'MutationTaster_pred': ['A', 'D', 'N', 'P'],\n",
       " 'PROVEAN_pred': ['D', 'N'],\n",
       " 'Polyphen2_HDIV_pred': ['B', 'D', 'P'],\n",
       " 'Polyphen2_HVAR_pred': ['B', 'D', 'P'],\n",
       " 'SIFT_pred': ['D', 'T'],\n",
       " 'fathmm-MKL_coding_pred': ['D', 'N']}"
      ]
     },
     "execution_count": 316,
     "metadata": {},
     "output_type": "execute_result"
    }
   ],
   "source": [
    "predictor_values"
   ]
  },
  {
   "cell_type": "markdown",
   "metadata": {
    "deletable": false,
    "editable": false,
    "nbgrader": {
     "cell_type": "markdown",
     "checksum": "02e49d29c39c13db3e1374b2d2d9c278",
     "grade": false,
     "grade_id": "cell-70ccec7c3ed8b326",
     "locked": true,
     "schema_version": 3,
     "solution": false,
     "task": false
    }
   },
   "source": [
    "# Part 2 (No points)\n",
    "\n",
    "You will now create 13 tables\n",
    "Tables 1-11 will be for :\n",
    "\n",
    "FATHMM_pred\n",
    "LRT_pred \n",
    "MetaLR_pred\n",
    "MetaSVM_pred\n",
    "MutationAssessor_pred\n",
    "MutationTaster_pred\n",
    "PROVEAN_pred\n",
    "Polyphen2_HDIV_pred\n",
    "Polyphen2_HVAR_pred\n",
    "SIFT_pred\n",
    "fathmm_MKL_coding_pred ## NOTE: I have replaced the dash with an underscore. \n",
    "\n",
    "The first column for each of these tables will be the name of the field + ID, e.g., FATHMM_predID. This\n",
    "column will be of type not null primary key. The second column will be called `prediction` and will be of\n",
    "type TEXT not null. The prediction values will be values you extracted for each of the fields in the previous step. \n",
    "For example, 'FATHMM_pred' has two prediction values 'T' and 'D'. Name the tables after their field name, e.g.,  \n",
    "call table that will contains values of FATHMM_pred `FATHMM_pred`.  Make sure to sort the values, meaning, D should \n",
    "be inserted before T. \n",
    "\n",
    "\n",
    "Table 12 will be the Variants table. \n",
    "The first column will be VariantID. \n",
    "\n",
    "The other columns will be:\n",
    "CHROM   \n",
    "POS \n",
    "ID  \n",
    "REF \n",
    "ALT \n",
    "QUAL    \n",
    "FILTER\n",
    "thousandg2015aug_all ##NOTE: a column name cannot start with a number, so you have to rename!\n",
    "ExAC_ALL\n",
    "\n",
    "\n",
    "Table 12 will have 11 more columns that relate to each of prediction table. Consider writing a utility function\n",
    "to fetch the primary key for a given prediction from each of the prediction table. Name each of the \n",
    "column should be the name of predictor + ID, e.g., FATHMM_predID. \n",
    "\n",
    "\n",
    "You have already deteremined their data type, so use that to set their data type. \n",
    "For integer use INTEGER. \n",
    "For float use REAL. \n",
    "For string use TEXT. \n",
    "\n",
    "Table 13  will be called PredictionStats. The first column will be PredictorStatsID INTEGER NOT NULL PRIMARY KEY. \n",
    "The second column will be VariantID. The third column will be PredictorName. The fourth column will be PredictorValue. \n",
    "This is not a normalized table!\n",
    "\n",
    "The prediction value will be a float value mapped from the prediction text.  Use the following information to \n",
    "assign values: \n",
    "REF: https://brb.nci.nih.gov/seqtools/colexpanno.html#dbnsfp\n",
    "\n",
    "FATHMM_pred\n",
    "- T = 0\n",
    "- D = 1\n",
    "\n",
    "LRT_pred \n",
    "- D = 1\n",
    "- N = 0\n",
    "- U = 0\n",
    "\n",
    "MetaLR_pred\n",
    "- T = 0\n",
    "- D = 1\n",
    "\n",
    "MetaSVM_pred\n",
    "- T = 0\n",
    "- D = 1\n",
    "\n",
    "MutationAssessor_pred\n",
    "- H = 1\n",
    "- N = 0\n",
    "- L = 0.25\n",
    "- M = 0.5\n",
    "\n",
    "MutationTaster_pred\n",
    "- D = 1\n",
    "- P = 0\n",
    "- N = 0\n",
    "- A = 1\n",
    "\n",
    "PROVEAN_pred\n",
    "- D = 1\n",
    "- N = 0\n",
    "\n",
    "Polyphen2_HDIV_pred\n",
    "- D = 1\n",
    "- B = 0\n",
    "- P = 0.5\n",
    "\n",
    "Polyphen2_HVAR_pred\n",
    "- D = 1\n",
    "- B = 0\n",
    "- P = 0.5\n",
    "\n",
    "SIFT_pred\n",
    "- D = 1\n",
    "- T = 0\n",
    "\n",
    "fathmm-MKL_coding_pred\n",
    "- D = 1\n",
    "- N = 0\n",
    "\n",
    "\n",
    "```\n",
    "\n",
    "prediction_mapping = {\n",
    "    'FATHMM_pred': {'T': 0, 'D': 1},\n",
    "    'MetaLR_pred': {'T': 0, 'D': 1},\n",
    "    'MetaSVM_pred': {'T': 0, 'D': 1},\n",
    "    'SIFT_pred': {'T': 0, 'D': 1},\n",
    "    'fathmm_MKL_coding_pred': {'D': 1, 'N': 0},\n",
    "    'LRT_pred': {'U': 0, 'N': 0, 'D': 1},\n",
    "    'MutationAssessor_pred': {'H': 1, 'N': 0, 'L': 0.25, 'M': 0.5},  \n",
    "    'MutationTaster_pred': {'D': 1, 'P': 0, 'N': 0, 'A': 1},\n",
    "    'PROVEAN_pred': {'D': 1, 'N': 0},\n",
    "    'Polyphen2_HDIV_pred': {'D': 1, 'B': 0, 'P': 0.5},\n",
    "    'Polyphen2_HVAR_pred': {'D': 1, 'B': 0, 'P': 0.5},\n",
    "}\n",
    "\n",
    "\n",
    "```\n",
    "\n",
    "\n",
    "The idea is that 11 predictors have been used to annotate all the variants in the file. This table combines all that information in one table. \n",
    "By grouping the table based on variantid and summing the prediction values mapped from the prediction text, you can find which variants have a consensus on their being deterimental. \n",
    "\n",
    "IMPORTANT: instead of fathmm-MKL_coding_pred use fathmm_MKL_coding_pred everywhere. \n",
    "HINT: You have to commit the changes you make to the table, otherwise your changes will not be saved. Consider wrapping all changes inside `with conn:`\n",
    "\n",
    "\n"
   ]
  },
  {
   "cell_type": "code",
   "execution_count": 109,
   "metadata": {
    "deletable": false,
    "editable": false,
    "nbgrader": {
     "cell_type": "code",
     "checksum": "b57dd1bbe1b388369abcae0c015ecb8b",
     "grade": false,
     "grade_id": "cell-61cb3b6701bce76d",
     "locked": true,
     "schema_version": 3,
     "solution": false,
     "task": false
    }
   },
   "outputs": [],
   "source": [
    "# Creating lab2.db \n",
    "db_file = 'lab2.db'\n",
    "conn = create_connection(db_file, delete_db=True)\n",
    "conn.close()\n"
   ]
  },
  {
   "cell_type": "code",
   "execution_count": 110,
   "metadata": {
    "scrolled": true
   },
   "outputs": [
    {
     "data": {
      "text/plain": [
       "{'FATHMM_pred': ['T', 'D'],\n",
       " 'LRT_pred': ['D', 'N', 'U'],\n",
       " 'MetaLR_pred': ['D', 'T'],\n",
       " 'MetaSVM_pred': ['D', 'T'],\n",
       " 'MutationAssessor_pred': ['H', 'N', 'L', 'M'],\n",
       " 'MutationTaster_pred': ['D', 'P', 'N', 'A'],\n",
       " 'PROVEAN_pred': ['D', 'N'],\n",
       " 'Polyphen2_HDIV_pred': ['D', 'B', 'P'],\n",
       " 'Polyphen2_HVAR_pred': ['D', 'B', 'P'],\n",
       " 'SIFT_pred': ['D', 'T'],\n",
       " 'fathmm-MKL_coding_pred': ['D', 'N']}"
      ]
     },
     "execution_count": 110,
     "metadata": {},
     "output_type": "execute_result"
    }
   ],
   "source": [
    "# predictor_values"
   ]
  },
  {
   "cell_type": "code",
   "execution_count": 111,
   "metadata": {
    "deletable": false,
    "nbgrader": {
     "cell_type": "code",
     "checksum": "a0df480570e6750d16a514bd751d3a0f",
     "grade": false,
     "grade_id": "cell-d88abb3c867e6ef4",
     "locked": false,
     "schema_version": 3,
     "solution": true,
     "task": false
    }
   },
   "outputs": [],
   "source": [
    "def create_tables_1_11(db_file):\n",
    "    \"\"\"\n",
    "    Create tables 1 to 11.\n",
    "    \n",
    "    INPUT: db_file -- Name of database file -- eg. lab2.db\n",
    "    \n",
    "    \"\"\"\n",
    "    # YOUR CODE HERE\n",
    "    conn = create_connection(db_file, delete_db=True)\n",
    "\n",
    "    for i in predictor_values:\n",
    "        j=i.replace(\"-\", \"_\")\n",
    "        create_table_sql = f\"Create TABLE {j} ( {j}ID NOT NULL PRIMARY KEY, PREDICTION TEXT NOT NULL);\"\n",
    "        #print(create_table_sql)\n",
    "        conn = create_connection(db_file, delete_db=False)\n",
    "        with conn:\n",
    "            create_table(conn, create_table_sql)\n",
    "            values=predictor_values[i]\n",
    "            values.sort()\n",
    "            for items in values:\n",
    "                indices = values.index(items)\n",
    "                insert_sql=f\"INSERT INTO {j} VALUES ({indices+1},'{items}');\"\n",
    "                #print(insert_sql)\n",
    "                create_table(conn, insert_sql)\n",
    "                \n",
    "            \n",
    "     #create_table(conn, create_table_sql)\n",
    "    #raise NotImplementedError()\n",
    "\n",
    "db_file = 'lab2.db'    \n",
    "create_tables_1_11(db_file)"
   ]
  },
  {
   "cell_type": "markdown",
   "metadata": {
    "deletable": false,
    "editable": false,
    "nbgrader": {
     "cell_type": "markdown",
     "checksum": "aca29ed5ea6e60f075e133fec0052535",
     "grade": false,
     "grade_id": "cell-ad7a8e7ac0b01d55",
     "locked": true,
     "schema_version": 3,
     "solution": false,
     "task": false
    }
   },
   "source": [
    "# Part 3 (10 pts)\n",
    "\n",
    "Write a function that returns a dictionary that maps for a given predictor its letter prediction to foreign key value. \n",
    "Conver the dash in 'fathmm-MKL_coding_pred' to an underscore. \n"
   ]
  },
  {
   "cell_type": "code",
   "execution_count": 317,
   "metadata": {
    "deletable": false,
    "nbgrader": {
     "cell_type": "code",
     "checksum": "3ea21bf0090fdaced225244d86e1594c",
     "grade": false,
     "grade_id": "cell-c1fed27f8a6c9e23",
     "locked": false,
     "schema_version": 3,
     "solution": true,
     "task": false
    }
   },
   "outputs": [],
   "source": [
    "def get_predictor_value_to_fk_map(db_file):\n",
    "    \"\"\"\n",
    "    See part 3 description \n",
    "    \n",
    "    INPUT: db_file -- Name of database file -- eg. lab2.db\n",
    "    \n",
    "    \"\"\"\n",
    "    # YOUR CODE HERE\n",
    "    predictor_values={'FATHMM_pred': ['T', 'D'],  'LRT_pred': ['D', 'N', 'U'], 'MetaLR_pred': ['D', 'T'], 'MetaSVM_pred': ['D', 'T'], 'MutationAssessor_pred': ['H', 'N', 'L', 'M'], 'MutationTaster_pred': ['D', 'P', 'N', 'A'], 'PROVEAN_pred': ['D', 'N'], 'Polyphen2_HDIV_pred': ['D', 'B', 'P'], 'Polyphen2_HVAR_pred': ['D', 'B', 'P'], 'SIFT_pred': ['D', 'T'], 'fathmm-MKL_coding_pred': ['D', 'N']}\n",
    "    solution={}\n",
    "    \n",
    "    for i in predictor_values:\n",
    "        items={}\n",
    "        j=i.replace(\"-\", \"_\")\n",
    "        select_table_sql = f\"select * from {j};\"\n",
    "        # print(create_table_sql)\n",
    "        conn = create_connection(db_file, delete_db=False)\n",
    "        with conn:\n",
    "            c = conn.cursor()\n",
    "            c.execute(select_table_sql)\n",
    "            rows = c.fetchall()\n",
    "            for k in rows:\n",
    "                items[k[1]]=k[0]\n",
    "        solution[j]=items\n",
    "        \n",
    "    return(solution)\n",
    "                \n",
    "        \n",
    "        \n",
    "    #raise NotImplementedError()\n",
    "    \n",
    "rows=get_predictor_value_to_fk_map(db_file)\n"
   ]
  },
  {
   "cell_type": "code",
   "execution_count": 319,
   "metadata": {
    "deletable": false,
    "editable": false,
    "nbgrader": {
     "cell_type": "code",
     "checksum": "17e4c380bec42efad7c85fbe769ae80d",
     "grade": true,
     "grade_id": "cell-d6d06a3e0545c576",
     "locked": true,
     "points": 10,
     "schema_version": 3,
     "solution": false,
     "task": false
    }
   },
   "outputs": [],
   "source": [
    "expected_solution = {\n",
    "    'FATHMM_pred': {'D': 1, 'T': 2}, \n",
    "    'LRT_pred': {'D': 1, 'N': 2, 'U': 3}, \n",
    "    'MetaLR_pred': {'D': 1, 'T': 2}, \n",
    "    'MetaSVM_pred': {'D': 1, 'T': 2}, \n",
    "    'MutationAssessor_pred': {'H': 1, 'L': 2, 'M': 3, 'N': 4}, \n",
    "    'MutationTaster_pred': {'A': 1, 'D': 2, 'N': 3, 'P': 4}, \n",
    "    'PROVEAN_pred': {'D': 1, 'N': 2}, \n",
    "    'Polyphen2_HDIV_pred': {'B': 1, 'D': 2, 'P': 3}, \n",
    "    'Polyphen2_HVAR_pred': {'B': 1, 'D': 2, 'P': 3}, \n",
    "    'SIFT_pred': {'D': 1, 'T': 2}, \n",
    "    'fathmm_MKL_coding_pred': {'D': 1, 'N': 2}}\n",
    "\n",
    "db_file = 'lab2.db'\n",
    "predictor_fk_map = get_predictor_value_to_fk_map(db_file)\n",
    "assert predictor_fk_map == expected_solution\n",
    "\n"
   ]
  },
  {
   "cell_type": "code",
   "execution_count": 320,
   "metadata": {},
   "outputs": [],
   "source": [
    "# Utility function to fetch the primary key for every predictor value\n",
    "\n",
    "def fetch_primary_key(field, pred):\n",
    "    field=field.replace('-','_')\n",
    "    query=f\"select {field}ID from {field} where prediction='{pred}'\"\n",
    "    conn = create_connection(db_file, delete_db=False)\n",
    "    with conn:\n",
    "        c = conn.cursor()\n",
    "        # print(query)\n",
    "        c.execute(query)\n",
    "        rows = c.fetchall()\n",
    "    # print(rows[0][0])    \n",
    "    return(rows[0][0])\n",
    "    \n",
    "result=fetch_primary_key('fathmm-MKL_coding_pred','D')\n",
    "#print(result)\n",
    "    "
   ]
  },
  {
   "cell_type": "markdown",
   "metadata": {
    "deletable": false,
    "editable": false,
    "nbgrader": {
     "cell_type": "markdown",
     "checksum": "bd97e9f0266ecb95bfc6c421df17b062",
     "grade": false,
     "grade_id": "cell-15a658481488bcd7",
     "locked": true,
     "schema_version": 3,
     "solution": false,
     "task": false
    }
   },
   "source": [
    "# Part 4 (No Points)\n",
    "Create table 12 or the variants table. See description above\n"
   ]
  },
  {
   "cell_type": "code",
   "execution_count": 321,
   "metadata": {
    "deletable": false,
    "nbgrader": {
     "cell_type": "code",
     "checksum": "885c0214ddc955d8769e5b1f2014735d",
     "grade": false,
     "grade_id": "cell-86e648d05e51d138",
     "locked": false,
     "schema_version": 3,
     "solution": true,
     "task": false
    }
   },
   "outputs": [],
   "source": [
    "def create_variants_table(db_file):\n",
    "    \"\"\"\n",
    "    Part 4\n",
    "    \"\"\"\n",
    "    # YOUR CODE HERE\n",
    "    \n",
    "    keys_save_value = [\n",
    "        'FATHMM_pred',\n",
    "        'LRT_pred',\n",
    "        'MetaLR_pred',\n",
    "        'MetaSVM_pred',\n",
    "        'MutationAssessor_pred',\n",
    "        'MutationTaster_pred',\n",
    "        'PROVEAN_pred',\n",
    "        'Polyphen2_HDIV_pred',\n",
    "        'Polyphen2_HVAR_pred',\n",
    "        'SIFT_pred',\n",
    "        'fathmm-MKL_coding_pred',\n",
    "    ]\n",
    "\n",
    "    drop='DROP TABLE if exists variants;'\n",
    "    create_sql='create table variants (VariantID NOT NULL PRIMARY KEY, CHROM TEXT,POS INTEGER,ID TEXT,REF TEXT,ALT TEXT,QUAL REAL,FILTER TEXT, thousandg2015aug_all REAL, ExAC_ALL REAL, FATHMM_predID INTEGER,LRT_predID INTEGER,MetaLR_predID INTEGER,MetaSVM_predID INTEGER,MutationAssessor_predID INTEGER,MutationTaster_predID INTEGER,PROVEAN_predID INTEGER,Polyphen2_HDIV_predID INTEGER,Polyphen2_HVAR_predID INTEGER,SIFT_predID INTEGER,fathmm_MKL_coding_predID INTEGER);'\n",
    "    conn = create_connection(db_file, delete_db=False)\n",
    "    with conn:\n",
    "        c = conn.cursor()\n",
    "        c.execute(drop)\n",
    "        c.execute(create_sql)\n",
    "    \n",
    "#     filename = 'test_4families_annovar.vcf.gz'\n",
    "#     i=1\n",
    "#     with gzip.open(filename,'rt') as fp:\n",
    "#         for record in fp:\n",
    "#             if not record.startswith ('#'):\n",
    "#                 values=record.strip().split('\\t')\n",
    "#                 CHROM=values[0]\n",
    "#                 POS=values[1]\n",
    "#                 ID=values[2]\n",
    "#                 REF=values[3]\n",
    "#                 ALT=values[4]\n",
    "#                 QUAL=values[5]\n",
    "#                 FILTER=values[6]\n",
    "#                 info_raw=values[7]\n",
    "#                 items=info_raw.split(';')\n",
    "#                 info={}\n",
    "#                 for item in items:\n",
    "#                     dict_items=item.split('=')\n",
    "#                     info[dict_items[0]]=''\n",
    "#                     try:\n",
    "#                         if not dict_items[1]=='.':\n",
    "#                             info[dict_items[0]]=dict_items[1]\n",
    "#                     except:\n",
    "#                         pass\n",
    "                \n",
    "#                 thousandg2015aug_all=''\n",
    "#                 ExAC_ALL=''\n",
    "#                 FATHMM_predID=''\n",
    "#                 LRT_predID=''\n",
    "#                 MetaLR_predID=''\n",
    "#                 MetaSVM_predID=''\n",
    "#                 MutationAssessor_predID=''\n",
    "#                 MutationTaster_predID=''\n",
    "#                 PROVEAN_predID=''\n",
    "#                 Polyphen2_HDIV_predID=''\n",
    "#                 Polyphen2_HVAR_predID=''\n",
    "#                 SIFT_predID=''\n",
    "#                 fathmm_MKL_coding_predID=''\n",
    "#                 try:\n",
    "#                     thousandg2015aug_all=info['1000g2015aug_all']\n",
    "#                 except:\n",
    "#                     pass\n",
    "#                 if len(thousandg2015aug_all)==0:\n",
    "#                     thousandg2015aug_all='NULL'\n",
    "#                 try:\n",
    "#                     ExAC_ALL=info['ExAC_ALL']\n",
    "#                 except:\n",
    "#                     pass\n",
    "#                 if len(ExAC_ALL)==0:\n",
    "#                         ExAC_ALL='NULL'\n",
    "                \n",
    "#                 temp_dict={}\n",
    "#                 for j in keys_save_value:\n",
    "#                     if j in info.keys():\n",
    "#                         if info[j]=='.' or len(info[j])==0:\n",
    "#                             temp_dict[j]='NULL'\n",
    "#                         else: \n",
    "#                             temp_dict[j]=fetch_primary_key(j,info[j])\n",
    "                            \n",
    "                # print(temp_dict)    \n",
    "                    \n",
    "                    \n",
    "                    \n",
    "                \n",
    "#                 insert_sql=f\"insert into variants values({i},'{CHROM}',{POS},'{ID}','{REF}','{ALT}',{QUAL},'{FILTER}', {thousandg2015aug_all}, '{ExAC_ALL}', {temp_dict['FATHMM_pred']},{temp_dict['LRT_pred']},{temp_dict['MetaLR_pred']},{temp_dict['MetaSVM_pred']},{temp_dict['MutationAssessor_pred']},{temp_dict['MutationTaster_pred']},{temp_dict['PROVEAN_pred']},{temp_dict['Polyphen2_HDIV_pred']},{temp_dict['Polyphen2_HVAR_pred']},{temp_dict['SIFT_pred']},{temp_dict['fathmm-MKL_coding_pred']});\"\n",
    "                #print(insert_sql)\n",
    "#                 with conn:\n",
    "#                     c = conn.cursor()\n",
    "#                     c.execute(insert_sql)\n",
    "                #i=i+1\n",
    "                #print(i,' rows done')\n",
    "                \n",
    "    \n",
    "    \n",
    "    # Raise NotImplementedError()\n",
    "\n",
    "# create table\n",
    "db_file = 'lab2.db'\n",
    "create_variants_table(db_file)\n"
   ]
  },
  {
   "cell_type": "markdown",
   "metadata": {
    "deletable": false,
    "editable": false,
    "nbgrader": {
     "cell_type": "markdown",
     "checksum": "0a07c128ac410b03efbe7c79c8754ae8",
     "grade": false,
     "grade_id": "cell-72d2c7d909ec378f",
     "locked": true,
     "schema_version": 3,
     "solution": false,
     "task": false
    }
   },
   "source": [
    "# Part 5 (No Points)\n",
    "\n",
    "Create table 13 -- or the prediction stats table. See description above. \n"
   ]
  },
  {
   "cell_type": "code",
   "execution_count": 322,
   "metadata": {
    "deletable": false,
    "nbgrader": {
     "cell_type": "code",
     "checksum": "c28e9241740b966cd49b76cbe4d26fca",
     "grade": false,
     "grade_id": "cell-9410edb2ed7c5bb3",
     "locked": false,
     "schema_version": 3,
     "solution": true,
     "task": false
    }
   },
   "outputs": [],
   "source": [
    "def create_predictionstats_table(db_file):\n",
    "    \"\"\"\n",
    "    Part 5   \n",
    "    \"\"\"\n",
    "    drop_sql=\"drop table if exists predictorstats\"\n",
    "    create_sql = \"create table predictorstats( PredictorStatsID Integer not null primary key, VariantID Integer, PredictorName Text, PredictorValue Real); \"\n",
    "    # INTEGER NOT NULL PRIMARY KEY. The second column will be VariantID. The third column will be PredictorName. The fourth column will be PredictorValue. This is not a normalized table!\n",
    "    \n",
    "    # YOUR CODE HERE\n",
    "\n",
    "#     temp_sql=\"create table predictorstats_temp as select variantid, 'FATHMM_PRED' as predictorname, case when prediction = 'T' then 0 when prediction ='D' then 1 else 10 end as predictorvalue from variants a inner join FATHMM_PRED b on a.fathmm_predid=b.fathmm_predid where a.fathmm_predid is not null union all select variantid, 'LRT_PRED' as predictorname, case when prediction = 'D' then 1 when prediction ='N' then 0 when prediction='U' then 0 else 10 end as predictorvalue from variants a inner join LRT_PRED b on a.lrt_predid=b.lrt_predid where a.lrt_predid is not null union all select variantid, 'MetaLR_pred' as predictorname, case when prediction = 'T' then 0 when prediction ='D' then 1 else 10 end as predictorvalue from variants a inner join MetaLR_pred b on a.MetaLR_predid=b.MetaLR_predid where a.MetaLR_predid is not null union all select variantid, 'MetaSVM_pred' as predictorname, case when prediction = 'T' then 0 when prediction ='D' then 1 else 10 end as predictorvalue from variants a inner join MetaSVM_pred b on a.MetaSVM_predid=b.MetaSVM_predid where a.MetaSVM_predid is not null union all select variantid, 'MutationAssessor_pred' as predictorname, case when prediction = 'H' then 1 when prediction ='N' then 0 when prediction ='L' then 0.25 when prediction='M' then 0.5 else 10 end as predictorvalue from variants a inner join MutationAssessor_pred b on a.MutationAssessor_predid=b.MutationAssessor_predid where a.MutationAssessor_predid is not null union all select variantid, 'MutationTaster_pred' as predictorname, case when prediction = 'D' then 1 when prediction ='A' then 1 when prediction ='P' then 0 when prediction='N' then 0 else 10 end as predictorvalue from variants a inner join MutationTaster_pred b on a.MutationTaster_predid=b.MutationTaster_predid where a.MutationTaster_predid is not null union all select variantid, 'PROVEAN_pred' as predictorname, case when prediction = 'D' then 1 when prediction='N' then 0 else 10 end as predictorvalue from variants a inner join PROVEAN_pred b on a.PROVEAN_predid=b.PROVEAN_predid where a.PROVEAN_predid is not null union all select variantid, 'Polyphen2_HDIV_pred' as predictorname, case when prediction = 'D' then 1 when prediction='B' then 0 when prediction = 'P' then 0.5 else 10 end as predictorvalue from variants a inner join Polyphen2_HDIV_pred b on a.Polyphen2_HDIV_predid=b.Polyphen2_HDIV_predid where a.Polyphen2_HDIV_predid is not null union all select variantid, 'Polyphen2_HVAR_pred' as predictorname, case when prediction = 'D' then 1 when prediction='B' then 0 when prediction = 'P' then 0.5 else 10 end as predictorvalue from variants a inner join Polyphen2_HVAR_pred b on a.Polyphen2_HVAR_predid=b.Polyphen2_HVAR_predid where a.Polyphen2_HVAR_predid is not null union all select variantid, 'SIFT_pred' as predictorname, case when prediction = 'D' then 1 when prediction='T' then 0 else 10 end as predictorvalue from variants a inner join SIFT_pred b on a.SIFT_predid=b.SIFT_predid where a.SIFT_predid is not null union all select variantid, 'fathmm_MKL_coding_pred' as predictorname, case when prediction = 'D' then 1 when prediction='N' then 0 else 10 end as predictorvalue from variants a inner join fathmm_MKL_coding_pred b on a.fathmm_MKL_coding_predid=b.fathmm_MKL_coding_predid where a.fathmm_MKL_coding_predid is not null ;\"\n",
    "#     drop_sql_2=\"drop table if exists PredictionStats\"\n",
    "#     final_sql=\"create table PredictionStats as select rowid as PredictorStatsID, variantid, predictorname, cast(predictorvalue as real) as predictorvalue from predictorstats_temp;\"\n",
    "\n",
    "\n",
    "    conn = create_connection(db_file)\n",
    "    with conn:\n",
    "        c = conn.cursor()\n",
    "        c.execute(drop_sql)\n",
    "        c.execute(create_sql)\n",
    "#         c.execute(drop_sql_2)\n",
    "#         c.execute(final_sql)\n",
    "    # raise NotImplementedError()\n",
    "    \n",
    "db_file = 'lab2.db'\n",
    "create_predictionstats_table(db_file)"
   ]
  },
  {
   "cell_type": "markdown",
   "metadata": {
    "deletable": false,
    "editable": false,
    "nbgrader": {
     "cell_type": "markdown",
     "checksum": "02ead5219e3bdfecc28282a49807354c",
     "grade": false,
     "grade_id": "cell-aadb54a613358152",
     "locked": true,
     "schema_version": 3,
     "solution": false,
     "task": false
    }
   },
   "source": [
    "# Part 6 (10 Points)\n",
    "\n",
    "Write a function to pull the following info fields given the whole info field. \n",
    "```\n",
    "values_to_pull = [\n",
    "        '1000g2015aug_all',\n",
    "        'ExAC_ALL',\n",
    "        'FATHMM_pred',\n",
    "        'LRT_pred',\n",
    "        'MetaLR_pred',\n",
    "        'MetaSVM_pred',\n",
    "        'MutationAssessor_pred',\n",
    "        'MutationTaster_pred',\n",
    "        'PROVEAN_pred',\n",
    "        'Polyphen2_HDIV_pred',\n",
    "        'Polyphen2_HVAR_pred',\n",
    "        'SIFT_pred',\n",
    "        'fathmm-MKL_coding_pred',\n",
    "    ]\n",
    "```\n"
   ]
  },
  {
   "cell_type": "code",
   "execution_count": 323,
   "metadata": {
    "deletable": false,
    "nbgrader": {
     "cell_type": "code",
     "checksum": "85c2cba7f4ac522754215f18c414e225",
     "grade": false,
     "grade_id": "cell-1a912b3aacdae96d",
     "locked": false,
     "schema_version": 3,
     "solution": true,
     "task": false
    }
   },
   "outputs": [],
   "source": [
    "def pull_info_values(info):\n",
    "    \"\"\"\n",
    "    See part 6 description\n",
    "    \"\"\"\n",
    "    # YOUR CODE HERE\n",
    "    # raise NotImplementedError()\n",
    "    values_to_pull = [\n",
    "        '1000g2015aug_all',\n",
    "        'ExAC_ALL',\n",
    "        'FATHMM_pred',\n",
    "        'LRT_pred',\n",
    "        'MetaLR_pred',\n",
    "        'MetaSVM_pred',\n",
    "        'MutationAssessor_pred',\n",
    "        'MutationTaster_pred',\n",
    "        'PROVEAN_pred',\n",
    "        'Polyphen2_HDIV_pred',\n",
    "        'Polyphen2_HVAR_pred',\n",
    "        'SIFT_pred',\n",
    "        'fathmm-MKL_coding_pred',\n",
    "    ]\n",
    "    final_dict={}\n",
    "    items=info.strip().split(';')\n",
    "    for item in items:\n",
    "        contents=item.split('=')\n",
    "        if contents[0] in values_to_pull:\n",
    "            if len(contents)>1:\n",
    "                if contents[0] == 'fathmm-MKL_coding_pred':\n",
    "                    contents[0]='fathmm_MKL_coding_pred'\n",
    "                if contents[0] == '1000g2015aug_all':\n",
    "                    contents[0]='thousandg2015aug_all'\n",
    "                final_dict[contents[0]]=contents[1]\n",
    "    \n",
    "    return(final_dict)\n",
    "\n"
   ]
  },
  {
   "cell_type": "code",
   "execution_count": 324,
   "metadata": {
    "deletable": false,
    "editable": false,
    "nbgrader": {
     "cell_type": "code",
     "checksum": "2fe3587c07040e2cff40d0d2a5969ed5",
     "grade": true,
     "grade_id": "cell-daa4d9dd1bb8e921",
     "locked": true,
     "points": 10,
     "schema_version": 3,
     "solution": false,
     "task": false
    }
   },
   "outputs": [],
   "source": [
    "sample_info_input = \"AC=2;AF=0.333;AN=6;BaseQRankSum=2.23;ClippingRankSum=0;DP=131;ExcessHet=3.9794;FS=2.831;MLEAC=2;MLEAF=0.333;MQ=60;MQRankSum=0;QD=12.06;ReadPosRankSum=-0.293;SOR=0.592;VQSLOD=21.79;culprit=MQ;DB;POSITIVE_TRAIN_SITE;ANNOVAR_DATE=2018-04-16;Func.refGene=exonic;Gene.refGene=MAST2;GeneDetail.refGene=.;ExonicFunc.refGene=nonsynonymous_SNV;AAChange.refGene=MAST2:NM_015112:exon29:c.G3910A:p.V1304M;Func.ensGene=exonic;Gene.ensGene=ENSG00000086015;GeneDetail.ensGene=.;ExonicFunc.ensGene=nonsynonymous_SNV;AAChange.ensGene=ENSG00000086015:ENST00000361297:exon29:c.G3910A:p.V1304M;cytoBand=1p34.1;gwasCatalog=.;tfbsConsSites=.;wgRna=.;targetScanS=.;Gene_symbol=.;OXPHOS_Complex=.;Ensembl_Gene_ID=.;Ensembl_Protein_ID=.;Uniprot_Name=.;Uniprot_ID=.;NCBI_Gene_ID=.;NCBI_Protein_ID=.;Gene_pos=.;AA_pos=.;AA_sub=.;Codon_sub=.;dbSNP_ID=.;PhyloP_46V=.;PhastCons_46V=.;PhyloP_100V=.;PhastCons_100V=.;SiteVar=.;PolyPhen2_prediction=.;PolyPhen2_score=.;SIFT_prediction=.;SIFT_score=.;FatHmm_prediction=.;FatHmm_score=.;PROVEAN_prediction=.;PROVEAN_score=.;MutAss_prediction=.;MutAss_score=.;EFIN_Swiss_Prot_Score=.;EFIN_Swiss_Prot_Prediction=.;EFIN_HumDiv_Score=.;EFIN_HumDiv_Prediction=.;CADD_score=.;CADD_Phred_score=.;CADD_prediction=.;Carol_prediction=.;Carol_score=.;Condel_score=.;Condel_pred=.;COVEC_WMV=.;COVEC_WMV_prediction=.;PolyPhen2_score_transf=.;PolyPhen2_pred_transf=.;SIFT_score_transf=.;SIFT_pred_transf=.;MutAss_score_transf=.;MutAss_pred_transf=.;Perc_coevo_Sites=.;Mean_MI_score=.;COSMIC_ID=.;Tumor_site=.;Examined_samples=.;Mutation_frequency=.;US=.;Status=.;Associated_disease=.;Presence_in_TD=.;Class_predicted=.;Prob_N=.;Prob_P=.;SIFT_score=0.034;SIFT_converted_rankscore=0.440;SIFT_pred=D;Polyphen2_HDIV_score=0.951;Polyphen2_HDIV_rankscore=0.520;Polyphen2_HDIV_pred=P;Polyphen2_HVAR_score=0.514;Polyphen2_HVAR_rankscore=0.462;Polyphen2_HVAR_pred=P;LRT_score=0.002;LRT_converted_rankscore=0.368;LRT_pred=N;MutationTaster_score=1.000;MutationTaster_converted_rankscore=0.810;MutationTaster_pred=D;MutationAssessor_score=1.67;MutationAssessor_score_rankscore=0.430;MutationAssessor_pred=L;FATHMM_score=1.36;FATHMM_converted_rankscore=0.344;FATHMM_pred=T;PROVEAN_score=-1.4;PROVEAN_converted_rankscore=0.346;PROVEAN_pred=N;VEST3_score=0.158;VEST3_rankscore=0.189;MetaSVM_score=-1.142;MetaSVM_rankscore=0.013;MetaSVM_pred=T;MetaLR_score=0.008;MetaLR_rankscore=0.029;MetaLR_pred=T;M-CAP_score=.;M-CAP_rankscore=.;M-CAP_pred=.;CADD_raw=4.716;CADD_raw_rankscore=0.632;CADD_phred=24.6;DANN_score=0.998;DANN_rankscore=0.927;fathmm-MKL_coding_score=0.900;fathmm-MKL_coding_rankscore=0.506;fathmm-MKL_coding_pred=D;Eigen_coding_or_noncoding=c;Eigen-raw=0.461;Eigen-PC-raw=0.469;GenoCanyon_score=1.000;GenoCanyon_score_rankscore=0.747;integrated_fitCons_score=0.672;integrated_fitCons_score_rankscore=0.522;integrated_confidence_value=0;GERP++_RS=4.22;GERP++_RS_rankscore=0.490;phyloP100way_vertebrate=4.989;phyloP100way_vertebrate_rankscore=0.634;phyloP20way_mammalian=1.047;phyloP20way_mammalian_rankscore=0.674;phastCons100way_vertebrate=1.000;phastCons100way_vertebrate_rankscore=0.715;phastCons20way_mammalian=0.999;phastCons20way_mammalian_rankscore=0.750;SiPhy_29way_logOdds=17.151;SiPhy_29way_logOdds_rankscore=0.866;Interpro_domain=.;GTEx_V6_gene=ENSG00000162415.6;GTEx_V6_tissue=Nerve_Tibial;esp6500siv2_all=0.0560;esp6500siv2_aa=0.0160;esp6500siv2_ea=0.0761;ExAC_ALL=0.0553;ExAC_AFR=0.0140;ExAC_AMR=0.0386;ExAC_EAS=0.0005;ExAC_FIN=0.0798;ExAC_NFE=0.0788;ExAC_OTH=0.0669;ExAC_SAS=0.0145;ExAC_nontcga_ALL=0.0541;ExAC_nontcga_AFR=0.0129;ExAC_nontcga_AMR=0.0379;ExAC_nontcga_EAS=0.0004;ExAC_nontcga_FIN=0.0798;ExAC_nontcga_NFE=0.0802;ExAC_nontcga_OTH=0.0716;ExAC_nontcga_SAS=0.0144;ExAC_nonpsych_ALL=0.0496;ExAC_nonpsych_AFR=0.0140;ExAC_nonpsych_AMR=0.0386;ExAC_nonpsych_EAS=0.0005;ExAC_nonpsych_FIN=0.0763;ExAC_nonpsych_NFE=0.0785;ExAC_nonpsych_OTH=0.0638;ExAC_nonpsych_SAS=0.0145;1000g2015aug_all=0.024361;1000g2015aug_afr=0.0038;1000g2015aug_amr=0.0461;1000g2015aug_eur=0.0795;1000g2015aug_sas=0.0041;CLNALLELEID=.;CLNDN=.;CLNDISDB=.;CLNREVSTAT=.;CLNSIG=.;dbscSNV_ADA_SCORE=.;dbscSNV_RF_SCORE=.;snp138NonFlagged=rs33931638;avsnp150=rs33931638;CADD13_RawScore=4.716301;CADD13_PHRED=24.6;Eigen=0.4614;REVEL=0.098;MCAP=.;Interpro_domain=.;ICGC_Id=.;ICGC_Occurrence=.;gnomAD_genome_ALL=0.0507;gnomAD_genome_AFR=0.0114;gnomAD_genome_AMR=0.0430;gnomAD_genome_ASJ=0.1159;gnomAD_genome_EAS=0;gnomAD_genome_FIN=0.0802;gnomAD_genome_NFE=0.0702;gnomAD_genome_OTH=0.0695;gerp++gt2=4.22;cosmic70=.;InterVar_automated=Benign;PVS1=0;PS1=0;PS2=0;PS3=0;PS4=0;PM1=0;PM2=0;PM3=0;PM4=0;PM5=0;PM6=0;PP1=0;PP2=0;PP3=0;PP4=0;PP5=0;BA1=1;BS1=1;BS2=0;BS3=0;BS4=0;BP1=0;BP2=0;BP3=0;BP4=0;BP5=0;BP6=0;BP7=0;Kaviar_AF=0.0552127;Kaviar_AC=8536;Kaviar_AN=154602;ALLELE_END\"\n",
    "\n",
    "expected_solution = {\n",
    "    'thousandg2015aug_all': '0.024361', \n",
    "    'ExAC_ALL': '0.0553', \n",
    "    'SIFT_pred': 'D', \n",
    "    'Polyphen2_HDIV_pred': 'P', \n",
    "    'Polyphen2_HVAR_pred': 'P', \n",
    "    'LRT_pred': 'N',\n",
    "    'MutationTaster_pred': 'D', \n",
    "    'MutationAssessor_pred': 'L', \n",
    "    'FATHMM_pred': 'T', \n",
    "    'PROVEAN_pred': 'N', \n",
    "    'MetaSVM_pred': 'T', \n",
    "    'MetaLR_pred': 'T', \n",
    "    'fathmm_MKL_coding_pred': 'D'\n",
    "}\n",
    "\n",
    "\n",
    "solution  = pull_info_values(sample_info_input)\n",
    "assert solution == expected_solution\n"
   ]
  },
  {
   "cell_type": "markdown",
   "metadata": {
    "deletable": false,
    "editable": false,
    "nbgrader": {
     "cell_type": "markdown",
     "checksum": "7db3c8a9dd9b9bcad14056f34bfb1357",
     "grade": false,
     "grade_id": "cell-5c6808c0fa04ea2e",
     "locked": true,
     "schema_version": 3,
     "solution": false,
     "task": false
    }
   },
   "source": [
    "# Part 7 (10 points)\n",
    "\n",
    "Remember that to insert a record in SQLite, you have to use `cur.execute(sql, values)`, where `sql` is the insert statement and `values` is a list/tuple of values that will be substituted into the `sql` string wherever there is a question mark. \n",
    "\n",
    "Write a function that takes in as input: CHROM, POS, ID, REF, ALT, QUAL, FILTER, info_values and returns a list with the values in the following order:\n",
    "```\n",
    "CHROM \n",
    "POS\n",
    "ID\n",
    "REF\n",
    "ALT\n",
    "QUAL\n",
    "FILTER\n",
    "thousandg2015aug_all # 1000 has been replaced by the text thousand\n",
    "ExAC_ALL\n",
    "FATHMM_pred\n",
    "LRT_pred\n",
    "MetaLR_pred\n",
    "MetaSVM_pred\n",
    "MutationAssessor_pred\n",
    "MutationTaster_pred\n",
    "PROVEAN_pred\n",
    "Polyphen2_HDIV_pred\n",
    "Polyphen2_HVAR_pred\n",
    "SIFT_pred\n",
    "fathmm_MKL_coding_pred # note that the dash has been replaced by underscore\n",
    "```\n",
    "\n",
    "The info_values dictionary contains the predictor values. Use `None` for any empty/missing value for info fields, thousandg2015aug_all, and ExAC_ALL. \n",
    "\n"
   ]
  },
  {
   "cell_type": "code",
   "execution_count": 326,
   "metadata": {
    "deletable": false,
    "nbgrader": {
     "cell_type": "code",
     "checksum": "36cd8d7cf36596717f5cc7647ef3accb",
     "grade": false,
     "grade_id": "cell-64622ed1cd1edf93",
     "locked": false,
     "schema_version": 3,
     "solution": true,
     "task": false
    }
   },
   "outputs": [],
   "source": [
    "def build_values_list(CHROM, POS, ID, REF, ALT, QUAL, FILTER, info_values):\n",
    "    \"\"\"\n",
    "    See part 7 description \n",
    "    \n",
    "    \"\"\"\n",
    "    \n",
    "    info=info_values\n",
    "    predictors=['FATHMM_pred','LRT_pred','MetaLR_pred','MetaSVM_pred','MutationAssessor_pred','MutationTaster_pred','PROVEAN_pred','Polyphen2_HDIV_pred','Polyphen2_HVAR_pred','SIFT_pred','fathmm_MKL_coding_pred']\n",
    "    \n",
    "    try:\n",
    "        thousandg2015aug_all=info['thousandg2015aug_all']\n",
    "    except:\n",
    "        thousandg2015aug_all=None\n",
    "    if thousandg2015aug_all=='.':\n",
    "        thousandg2015aug_all=None\n",
    "    try:\n",
    "        ExAC_ALL=info['ExAC_ALL']\n",
    "    except:\n",
    "        ExAC_ALL=None\n",
    "    if ExAC_ALL=='.':\n",
    "        ExAC_ALL=None\n",
    "    \n",
    "    pred_list=[]\n",
    "    for pred in predictors:\n",
    "        try:\n",
    "            x=info[pred]\n",
    "            y=fetch_primary_key(pred,x)\n",
    "        except:\n",
    "            y=None\n",
    "        pred_list=pred_list+[y]\n",
    "\n",
    "    constant=[CHROM, POS, ID, REF, ALT, QUAL, FILTER,thousandg2015aug_all,ExAC_ALL]\n",
    "    final=constant+pred_list\n",
    "        \n",
    "            \n",
    "    \n",
    "    \n",
    "    return(final)\n",
    "    # YOUR CODE HERE\n",
    "    # raise NotImplementedError()\n",
    "\n"
   ]
  },
  {
   "cell_type": "code",
   "execution_count": 327,
   "metadata": {
    "deletable": false,
    "editable": false,
    "nbgrader": {
     "cell_type": "code",
     "checksum": "93470c7dfca66199ca14302923f9bc8c",
     "grade": true,
     "grade_id": "cell-c318c4d870f5531b",
     "locked": true,
     "points": 10,
     "schema_version": 3,
     "solution": false,
     "task": false
    }
   },
   "outputs": [],
   "source": [
    "CHROM, POS, ID, REF, ALT, QUAL, FILTER = (7, 87837848, '.', 'C', 'A', 418.25, 'PASS') \n",
    "info_values = {'SIFT_pred': 'D', 'Polyphen2_HDIV_pred': 'D', 'Polyphen2_HVAR_pred': 'D', 'LRT_pred': 'D', 'MutationTaster_pred': 'D', 'MutationAssessor_pred': 'H', 'FATHMM_pred': 'T', 'PROVEAN_pred': 'D', 'MetaSVM_pred': 'D', 'MetaLR_pred': 'D', 'fathmm_MKL_coding_pred': 'D'}\n",
    "\n",
    "results = build_values_list(CHROM, POS, ID, REF, ALT, QUAL, FILTER, info_values)\n",
    "expected_results = [7, 87837848, '.', 'C', 'A', 418.25, 'PASS', None, None, 2, 1, 1, 1, 1, 2, 1, 2, 2, 1, 1]\n",
    "assert results == expected_results\n"
   ]
  },
  {
   "cell_type": "markdown",
   "metadata": {
    "deletable": false,
    "editable": false,
    "nbgrader": {
     "cell_type": "markdown",
     "checksum": "58711bb5e6292a433b4e091e05877edd",
     "grade": false,
     "grade_id": "cell-95cecd8da8b89c54",
     "locked": true,
     "schema_version": 3,
     "solution": false,
     "task": false
    }
   },
   "source": [
    "# Part 8 (No Points)\n",
    "\n",
    "Create a function that takes the database `conn` and `values` from the `build_values_list` function to insert a variant record. \n",
    "\n",
    "IMPORTANT: Function should return the id of the row inserted, which will be VariantId\n"
   ]
  },
  {
   "cell_type": "code",
   "execution_count": 215,
   "metadata": {
    "deletable": false,
    "nbgrader": {
     "cell_type": "code",
     "checksum": "e226af966d70250ffe5720197deb152e",
     "grade": false,
     "grade_id": "cell-72a446c435bc6eb5",
     "locked": false,
     "schema_version": 3,
     "solution": true,
     "task": false
    }
   },
   "outputs": [],
   "source": [
    "def insert_variant(conn, values):\n",
    "    \"\"\"\n",
    "    See description Part 8\n",
    "    \"\"\"\n",
    "    # YOUR CODE HERE\n",
    "    with conn:\n",
    "        c = conn.cursor()\n",
    "        c.execute(\"select max(rowid) from variants\")\n",
    "        rows = c.fetchall()\n",
    "    x=rows[0][0]\n",
    "    if x is None:\n",
    "        x=1\n",
    "    else:\n",
    "        x=x+1\n",
    "\n",
    "    values=[x]+values\n",
    "\n",
    "    \n",
    "    \n",
    "    insert_sql='INSERT INTO variants values(?,?,?,?,?,?,?,?,?,?,?,?,?,?,?,?,?,?,?,?,?)'\n",
    "#      sql = ''' INSERT INTO Students(StudentName, DepartmentId, DateOfBirth)\n",
    "#               VALUES(?,?,?) '''\n",
    "#     cur = conn.cursor()\n",
    "#     cur.execute(sql, values)\n",
    "#     return cur.lastrowid\n",
    "\n",
    "\n",
    "    \n",
    "    with conn:\n",
    "        c = conn.cursor()\n",
    "        c.execute(insert_sql,values)\n",
    "        return c.lastrowid\n",
    "    raise NotImplementedError()"
   ]
  },
  {
   "cell_type": "markdown",
   "metadata": {
    "deletable": false,
    "editable": false,
    "nbgrader": {
     "cell_type": "markdown",
     "checksum": "c7535737ef8cea0c4b306bece88f78f5",
     "grade": false,
     "grade_id": "cell-3c360e7adb54ac73",
     "locked": true,
     "schema_version": 3,
     "solution": false,
     "task": false
    }
   },
   "source": [
    "# Part 9 (No Points)\n",
    "\n",
    "Create a function that takes the database `conn` and `values` which is the tuple `(VariantId, PredictorName, PredictorValue)` Where `VariantId` will be the return value from the `insert_variant` function,  `PredictorName` is the name of the predictor, and `PredictorValue` is the mapping of the text value to a numeric value. \n"
   ]
  },
  {
   "cell_type": "code",
   "execution_count": 216,
   "metadata": {
    "deletable": false,
    "nbgrader": {
     "cell_type": "code",
     "checksum": "d54b688e19c0ffecfbd0642fcf900b18",
     "grade": false,
     "grade_id": "cell-6d17ca28ee066a3b",
     "locked": false,
     "schema_version": 3,
     "solution": true,
     "task": false
    }
   },
   "outputs": [],
   "source": [
    "def insert_predictionstat(conn, values):\n",
    "    \"\"\"\n",
    "    See description in part 9\n",
    "    \"\"\"\n",
    "    # YOUR CODE HERE\n",
    "    # YOUR CODE HERE\n",
    "    values=list(values)\n",
    "    with conn:\n",
    "        c = conn.cursor()\n",
    "        c.execute(\"select max(rowid) from predictorstats\")\n",
    "        rows = c.fetchall()\n",
    "    x=rows[0][0]\n",
    "    if x is None:\n",
    "        x=1\n",
    "    else:\n",
    "        x=x+1\n",
    "\n",
    "    values=[x]+values\n",
    "        \n",
    "    \n",
    "\n",
    "    insert_sql='INSERT INTO predictorstats values(?,?,?,?)'\n",
    "#      sql = ''' INSERT INTO Students(StudentName, DepartmentId, DateOfBirth)\n",
    "#               VALUES(?,?,?) '''\n",
    "#     cur = conn.cursor()\n",
    "#     cur.execute(sql, values)\n",
    "#     return cur.lastrowid\n",
    "\n",
    "\n",
    "    \n",
    "    with conn:\n",
    "        c = conn.cursor()\n",
    "        c.execute(insert_sql,values)\n",
    "        # return c.lastrowid\n",
    "    \n",
    "    #raise NotImplementedError()\n"
   ]
  },
  {
   "cell_type": "markdown",
   "metadata": {
    "deletable": false,
    "editable": false,
    "nbgrader": {
     "cell_type": "markdown",
     "checksum": "ff5474de7b650cbb71238dc0bdee24a7",
     "grade": false,
     "grade_id": "cell-beb6aaa454ebf4e9",
     "locked": true,
     "schema_version": 3,
     "solution": false,
     "task": false
    }
   },
   "source": [
    "# Part 10 (No Points)\n",
    "\n",
    "Write a function to insert records into both the variants and predictor_stats table. \n",
    "Hint:\n",
    "1) Open connection to database  \n",
    "2) Read file one line at a time using gzip read\n",
    "3) Extract CHROM, POS, ID, REF, ALT, QUAL, FILTER, INFO\n",
    "4) Use the pull_info_values function\n",
    "5) Use build_values_list \n",
    "6) Use insert_variant -- save variant_id\n",
    "7) Use insert_predictionstat -- insert each predictor at a time and remember to use `prediction_mapping` mapping. \n",
    "\n",
    "\n",
    "\n",
    "\n",
    "```\n",
    "\n",
    "prediction_mapping = {\n",
    "    'FATHMM_pred': {'T': 0, 'D': 1},\n",
    "    'MetaLR_pred': {'T': 0, 'D': 1},\n",
    "    'MetaSVM_pred': {'T': 0, 'D': 1},\n",
    "    'SIFT_pred': {'T': 0, 'D': 1},\n",
    "    'fathmm_MKL_coding_pred': {'D': 1, 'N': 0},\n",
    "    'LRT_pred': {'U': 0, 'N': 0, 'D': 1},\n",
    "    'MutationAssessor_pred': {'H': 1, 'N': 0, 'L': 0.25, 'M': 0.5},  \n",
    "    'MutationTaster_pred': {'D': 1, 'P': 0, 'N': 0, 'A': 1},\n",
    "    'PROVEAN_pred': {'D': 1, 'N': 0},\n",
    "    'Polyphen2_HDIV_pred': {'D': 1, 'B': 0, 'P': 0.5},\n",
    "    'Polyphen2_HVAR_pred': {'D': 1, 'B': 0, 'P': 0.5},\n",
    "}\n",
    "\n",
    "\n",
    "```\n"
   ]
  },
  {
   "cell_type": "code",
   "execution_count": 238,
   "metadata": {},
   "outputs": [
    {
     "name": "stdout",
     "output_type": "stream",
     "text": [
      "[(1324,)]\n"
     ]
    }
   ],
   "source": [
    "# conn = create_connection(db_file)\n",
    "# with conn:\n",
    "#         c = conn.cursor()\n",
    "#         c.execute('select count(*) from predictorstats;')\n",
    "#         rows=c.fetchall()\n",
    "#         print(rows)\n",
    "        \n"
   ]
  },
  {
   "cell_type": "code",
   "execution_count": 257,
   "metadata": {},
   "outputs": [],
   "source": [
    "# create_variants_table(db_file)\n",
    "# create_predictionstats_table(db_file)\n"
   ]
  },
  {
   "cell_type": "code",
   "execution_count": 338,
   "metadata": {
    "deletable": false,
    "nbgrader": {
     "cell_type": "code",
     "checksum": "7c47c65c4488c8d6f4c76b6e577386c0",
     "grade": false,
     "grade_id": "cell-09175a401cb7fde3",
     "locked": false,
     "schema_version": 3,
     "solution": true,
     "task": false
    }
   },
   "outputs": [],
   "source": [
    "prediction_mapping = {\n",
    "'FATHMM_pred': {'T': 0, 'D': 1},\n",
    "'MetaLR_pred': {'T': 0, 'D': 1},\n",
    "'MetaSVM_pred': {'T': 0, 'D': 1},\n",
    "'SIFT_pred': {'T': 0, 'D': 1},\n",
    "'fathmm_MKL_coding_pred': {'D': 1, 'N': 0},\n",
    "'LRT_pred': {'U': 0, 'N': 0, 'D': 1},\n",
    "'MutationAssessor_pred': {'H': 1, 'N': 0, 'L': 0.25, 'M': 0.5},  \n",
    "'MutationTaster_pred': {'D': 1, 'P': 0, 'N': 0, 'A': 1},\n",
    "'PROVEAN_pred': {'D': 1, 'N': 0},\n",
    "'Polyphen2_HDIV_pred': {'D': 1, 'B': 0, 'P': 0.5},\n",
    "'Polyphen2_HVAR_pred': {'D': 1, 'B': 0, 'P': 0.5}}\n",
    "\n",
    "pred_names=['FATHMM_pred',\n",
    "'LRT_pred',\n",
    "'MetaLR_pred', \n",
    "'MetaSVM_pred',\n",
    "'MutationAssessor_pred',\n",
    "'MutationTaster_pred',\n",
    "'PROVEAN_pred', \n",
    "'Polyphen2_HDIV_pred', \n",
    "'Polyphen2_HVAR_pred',\n",
    "'SIFT_pred', \n",
    "'fathmm_MKL_coding_pred']\n",
    "pred_to_num=get_predictor_value_to_fk_map(db_file)\n",
    "for m in pred_to_num.keys():\n",
    "    n=pred_to_num[m]\n",
    "    keys=n.keys()\n",
    "    values=n.values()\n",
    "    pred_to_num[m]=dict(zip(values,keys))\n",
    "\n",
    "\n",
    "def populate_variants_predictorstats_tables(db_file, filename):\n",
    "    \"\"\"\n",
    "    See description in part 10\n",
    "    \"\"\"\n",
    "    # YOUR CODE HERE\n",
    "    \n",
    "    \n",
    "    \n",
    "    \n",
    "    db_file = 'lab2.db'\n",
    "    conn = create_connection(db_file, delete_db=False)\n",
    "    \n",
    "    # filename = 'test_4families_annovar.vcf.gz'\n",
    "    i=1\n",
    "    with gzip.open(filename,'rt') as fp:\n",
    "        for record in fp:\n",
    "            if not record.startswith ('#'):\n",
    "                values=record.strip().split('\\t')\n",
    "                CHROM=values[0]\n",
    "                POS=values[1]\n",
    "                ID=values[2]\n",
    "                REF=values[3]\n",
    "                ALT=values[4]\n",
    "                QUAL=values[5]\n",
    "                FILTER=values[6]\n",
    "                info=values[7]\n",
    "                \n",
    "                info_values=pull_info_values(info)\n",
    "                \n",
    "                values=build_values_list(CHROM, POS, ID, REF, ALT, QUAL, FILTER, info_values)\n",
    "                variant_id=insert_variant(conn, values)\n",
    "                pred_list=values[-11:]\n",
    "                for i in range(11):\n",
    "                    if not pred_list[i] is None:\n",
    "                        name=pred_names[i]\n",
    "                        pred=pred_list[i]\n",
    "                        \n",
    "                        temp_dict=pred_to_num[name]\n",
    "                        pred_code=temp_dict[pred]\n",
    "                        pred_value=prediction_mapping[name][pred_code]\n",
    "                        stat_values=(variant_id,name,pred_value)\n",
    "                        insert_predictionstat(conn,stat_values)\n",
    "                        \n",
    "                        \n",
    "                \n",
    "                \n",
    "                        \n",
    "                \n",
    "    \n",
    "    # raise NotImplementedError()\n",
    "try:\n",
    "    conn.close()\n",
    "except:\n",
    "    pass\n",
    "\n",
    "db_file = 'lab2.db'\n",
    "filename = 'test_4families_annovar.vcf.gz'\n",
    "populate_variants_predictorstats_tables(db_file, filename)"
   ]
  },
  {
   "cell_type": "code",
   "execution_count": 328,
   "metadata": {},
   "outputs": [],
   "source": [
    "# pred_to_num=get_predictor_value_to_fk_map(db_file)\n",
    "# for m in pred_to_num.keys():\n",
    "#     n=pred_to_num[m]\n",
    "#     keys=n.keys()\n",
    "#     values=n.values()\n",
    "#     pred_to_num[m]=dict(zip(values,keys))\n",
    "\n",
    "# prediction_mapping = {\n",
    "#     'FATHMM_pred': {'T': 0, 'D': 1},\n",
    "#     'MetaLR_pred': {'T': 0, 'D': 1},\n",
    "#     'MetaSVM_pred': {'T': 0, 'D': 1},\n",
    "#     'SIFT_pred': {'T': 0, 'D': 1},\n",
    "#     'fathmm_MKL_coding_pred': {'D': 1, 'N': 0},\n",
    "#     'LRT_pred': {'U': 0, 'N': 0, 'D': 1},\n",
    "#     'MutationAssessor_pred': {'H': 1, 'N': 0, 'L': 0.25, 'M': 0.5},  \n",
    "#     'MutationTaster_pred': {'D': 1, 'P': 0, 'N': 0, 'A': 1},\n",
    "#     'PROVEAN_pred': {'D': 1, 'N': 0},\n",
    "#     'Polyphen2_HDIV_pred': {'D': 1, 'B': 0, 'P': 0.5},\n",
    "#     'Polyphen2_HVAR_pred': {'D': 1, 'B': 0, 'P': 0.5}}\n",
    "\n",
    "# x=prediction_mapping['FATHMM_pred']['T']\n",
    "# x\n",
    "    "
   ]
  },
  {
   "cell_type": "markdown",
   "metadata": {
    "deletable": false,
    "editable": false,
    "nbgrader": {
     "cell_type": "markdown",
     "checksum": "080cfb7285cf1838e0d0fb2262e0e42e",
     "grade": false,
     "grade_id": "cell-07b168b75e9dc969",
     "locked": true,
     "schema_version": 3,
     "solution": false,
     "task": false
    }
   },
   "source": [
    "# Part 11 (10 Points)\n",
    "\n",
    "Write a function that returns the total number of variants\n",
    "\n"
   ]
  },
  {
   "cell_type": "code",
   "execution_count": 341,
   "metadata": {
    "deletable": false,
    "nbgrader": {
     "cell_type": "code",
     "checksum": "d7c6644f9602c3a52f61a91a16d149ad",
     "grade": false,
     "grade_id": "cell-1d18f5ef024c5d12",
     "locked": false,
     "schema_version": 3,
     "solution": true,
     "task": false
    }
   },
   "outputs": [],
   "source": [
    "def num_of_total_variants(conn):\n",
    "    # YOUR CODE HERE\n",
    "    \n",
    "    with conn:\n",
    "        c = conn.cursor()\n",
    "        c.execute('select count(*) from variants;')\n",
    "        rows=c.fetchall()\n",
    "        return rows[0][0]\n",
    "\n",
    "        \n",
    "    # raise NotImplementedError()\n"
   ]
  },
  {
   "cell_type": "code",
   "execution_count": 342,
   "metadata": {
    "deletable": false,
    "editable": false,
    "nbgrader": {
     "cell_type": "code",
     "checksum": "e0620bed125f1503a864aa02388e1f82",
     "grade": true,
     "grade_id": "cell-880f6f16bf3fe3e3",
     "locked": true,
     "points": 10,
     "schema_version": 3,
     "solution": false,
     "task": false
    }
   },
   "outputs": [],
   "source": [
    "db_file = 'lab2.db'\n",
    "conn = create_connection(db_file)\n",
    "assert num_of_total_variants(conn) == 50001\n",
    "conn.close()"
   ]
  },
  {
   "cell_type": "markdown",
   "metadata": {
    "deletable": false,
    "editable": false,
    "nbgrader": {
     "cell_type": "markdown",
     "checksum": "869c5ab8d3a5f454ea093610ec290c8f",
     "grade": false,
     "grade_id": "cell-014a6a5fbd32d466",
     "locked": true,
     "schema_version": 3,
     "solution": false,
     "task": false
    }
   },
   "source": [
    "# Part 12 (10 Points)\n",
    "Write a function returns the total number of variant predictions -- the count of the predictiostats table. "
   ]
  },
  {
   "cell_type": "code",
   "execution_count": 343,
   "metadata": {
    "deletable": false,
    "nbgrader": {
     "cell_type": "code",
     "checksum": "7429092cc88f97347b136821086f9799",
     "grade": false,
     "grade_id": "cell-375db6c511630ece",
     "locked": false,
     "schema_version": 3,
     "solution": true,
     "task": false
    }
   },
   "outputs": [],
   "source": [
    "def num_of_total_variant_predictions(conn):\n",
    "    \"\"\"\n",
    "    Part 12\n",
    "    \"\"\"\n",
    "    with conn:\n",
    "        c = conn.cursor()\n",
    "        c.execute('select count(*) from predictorstats;')\n",
    "        rows=c.fetchall()\n",
    "        return rows[0][0]\n",
    "    # YOUR CODE HERE\n",
    "    raise NotImplementedError()\n",
    "\n"
   ]
  },
  {
   "cell_type": "code",
   "execution_count": 344,
   "metadata": {
    "deletable": false,
    "editable": false,
    "nbgrader": {
     "cell_type": "code",
     "checksum": "3fd4a49acab13980a3a88d7a38bc4460",
     "grade": true,
     "grade_id": "cell-4a9db4195a7202c1",
     "locked": true,
     "points": 10,
     "schema_version": 3,
     "solution": false,
     "task": false
    }
   },
   "outputs": [],
   "source": [
    "db_file = 'lab2.db'\n",
    "conn = create_connection(db_file)\n",
    "assert num_of_total_variant_predictions(conn) == 1324\n",
    "conn.close()"
   ]
  },
  {
   "cell_type": "markdown",
   "metadata": {
    "deletable": false,
    "editable": false,
    "nbgrader": {
     "cell_type": "markdown",
     "checksum": "ccfbd666071479a3e22ab6ea2000fe53",
     "grade": false,
     "grade_id": "cell-7eb7e0e33e847c55",
     "locked": true,
     "schema_version": 3,
     "solution": false,
     "task": false
    }
   },
   "source": [
    "# Part 13 (10 Points)\n",
    "Return the total number of variant predictions that have value greater than zero. Number of values from the predictionstats table that are greater than 0. "
   ]
  },
  {
   "cell_type": "code",
   "execution_count": 345,
   "metadata": {
    "deletable": false,
    "nbgrader": {
     "cell_type": "code",
     "checksum": "622fff446baff1967ab305668d243e41",
     "grade": false,
     "grade_id": "cell-d511bb5062a366a8",
     "locked": false,
     "schema_version": 3,
     "solution": true,
     "task": false
    }
   },
   "outputs": [],
   "source": [
    "def num_of_total_variant_predictions_with_value_gt_zero(conn):\n",
    "    \"\"\"\n",
    "    See part 13 description\n",
    "    \"\"\"\n",
    "    with conn:\n",
    "        c = conn.cursor()\n",
    "        c.execute('select count(*) from predictorstats where PredictorValue>0 ;')\n",
    "        rows=c.fetchall()\n",
    "        return rows[0][0]\n",
    "    # YOUR CODE HERE\n",
    "    raise NotImplementedError()\n",
    "\n"
   ]
  },
  {
   "cell_type": "code",
   "execution_count": 346,
   "metadata": {
    "deletable": false,
    "editable": false,
    "nbgrader": {
     "cell_type": "code",
     "checksum": "af597d6d881e8d170a19031097f15d28",
     "grade": true,
     "grade_id": "cell-9f84bca2161e571b",
     "locked": true,
     "points": 10,
     "schema_version": 3,
     "solution": false,
     "task": false
    }
   },
   "outputs": [],
   "source": [
    "db_file = 'lab2.db'\n",
    "conn = create_connection(db_file)\n",
    "assert num_of_total_variant_predictions_with_value_gt_zero(conn) == 219\n",
    "conn.close()"
   ]
  },
  {
   "cell_type": "markdown",
   "metadata": {
    "deletable": false,
    "editable": false,
    "nbgrader": {
     "cell_type": "markdown",
     "checksum": "cd1ef4605927b7d3c5fce2b39e2c9073",
     "grade": false,
     "grade_id": "cell-075254108290e0a9",
     "locked": true,
     "schema_version": 3,
     "solution": false,
     "task": false
    }
   },
   "source": [
    "# Part 14 (10 Points)\n",
    "\n",
    "Write a function that given `CHROM, POS, ID, REF, ALT` returns a variant's info with the following columns (column order is important) :\n",
    "```\n",
    "Variants.CHROM,\n",
    "Variants.POS,\n",
    "Variants.ID,\n",
    "Variants.REF,\n",
    "Variants.ALT,\n",
    "Variants.QUAL,\n",
    "Variants.FILTER,\n",
    "Variants.thousandg2015aug_all,\n",
    "Variants.ExAC_ALL,\n",
    "FATHMM_pred.prediction,\n",
    "LRT_pred.prediction,\n",
    "MetaLR_pred.prediction,\n",
    "MetaSVM_pred.prediction,\n",
    "MutationAssessor_pred.prediction,\n",
    "MutationTaster_pred.prediction,\n",
    "PROVEAN_pred.prediction,\n",
    "Polyphen2_HDIV_pred.prediction,\n",
    "Polyphen2_HVAR_pred.prediction,\n",
    "SIFT_pred.prediction,\n",
    "fathmm_MKL_coding_pred.prediction,\n",
    "sum(PredictionStats.PredictorValue)\n",
    "```\n",
    "\n",
    "For the predictions, return the actual text value. And the last column is the sum of all the mapped prediction scores for a given variant!\n",
    "\n"
   ]
  },
  {
   "cell_type": "code",
   "execution_count": 347,
   "metadata": {
    "deletable": false,
    "nbgrader": {
     "cell_type": "code",
     "checksum": "343581499fff2c4c58e23631e8119a74",
     "grade": false,
     "grade_id": "cell-e0384800793c5ef7",
     "locked": false,
     "schema_version": 3,
     "solution": true,
     "task": false
    }
   },
   "outputs": [],
   "source": [
    "def fetch_variant(conn, CHROM, POS, ID, REF, ALT):\n",
    "    \"\"\"\n",
    "    See Part 14 description\n",
    "    \"\"\"\n",
    "    # YOUR CODE HERE\n",
    "    sql=f\"select CHROM,POS,ID,REF,ALT,QUAL,FILTER,thousandg2015aug_all,Exac_ALL , b.prediction,c.prediction,d.prediction,e.prediction,f.prediction,g.prediction,h.prediction,i.prediction,j.prediction,k.prediction,l.prediction, sum(m.PredictorValue) from variants a left join fathmm_pred b on a.fathmm_predid=b.fathmm_predid left join LRT_pred c on a.LRT_predid=c.LRT_predid left join MetaLR_pred d on a.MetaLR_predid=d.MetaLR_predid left join MetaSVM_pred e on a.MetaSVM_predid=e.MetaSVM_predid left join MutationAssessor_pred f on a.MutationAssessor_predid=f.MutationAssessor_predid left join MutationTaster_pred g on a.MutationTaster_predid=g.MutationTaster_predid left join PROVEAN_pred h on a.PROVEAN_predid=h.PROVEAN_predid left join Polyphen2_HDIV_pred i on a.Polyphen2_HDIV_predid=i.Polyphen2_HDIV_predid left join Polyphen2_HVAR_pred j on a.Polyphen2_HVAR_predid = j.Polyphen2_HVAR_predid left join SIFT_pred k on a.SIFT_predid=k.SIFT_predid left join fathmm_MKL_coding_pred l on a.fathmm_MKL_coding_predid = l.fathmm_MKL_coding_predid left join predictorstats m on a.variantid=m.variantid where CHROM='{CHROM}' and POS={POS} and ID='{ID}' and REF='{REF}' and ALT='{ALT}';\"\n",
    "    with conn:\n",
    "        c = conn.cursor()\n",
    "        c.execute(sql)\n",
    "        rows=c.fetchall()\n",
    "        return rows[0]\n",
    "    # raise NotImplementedError()\n",
    "conn = create_connection(db_file)\n",
    "\n"
   ]
  },
  {
   "cell_type": "code",
   "execution_count": 348,
   "metadata": {},
   "outputs": [],
   "source": [
    "with conn:\n",
    "    c = conn.cursor()\n",
    "#     c.execute(\"select * from variants where CHROM='22' and POS =25599849 and id ='rs17670506' and ref='G' and alt='A' and qual=3124.91 and filter='PASS' ;\")\n",
    "#     rows=c.fetchall()\n",
    "#     print(rows)\n",
    "    c.execute(\"select thousandg2015aug_all from variants group by 1 \")\n",
    "    rows=c.fetchall()\n",
    "    # print(rows)"
   ]
  },
  {
   "cell_type": "code",
   "execution_count": 349,
   "metadata": {
    "deletable": false,
    "editable": false,
    "nbgrader": {
     "cell_type": "code",
     "checksum": "e0e5210cf6b040adebcedfbc67c6c12e",
     "grade": true,
     "grade_id": "cell-42ef13abc31ede02",
     "locked": true,
     "points": 10,
     "schema_version": 3,
     "solution": false,
     "task": false
    }
   },
   "outputs": [],
   "source": [
    "db_file = 'lab2.db'\n",
    "conn = create_connection(db_file)\n",
    "assert fetch_variant(conn, '22', 25599849, 'rs17670506', 'G', 'A') == ('22', 25599849, 'rs17670506', 'G', 'A', 3124.91, 'PASS', 0.0251597, 0.0425, 'D', 'D', 'T', 'T', 'M', 'D', 'D', 'D', 'D', 'D', 'D', 8.5)\n",
    "conn.close()"
   ]
  },
  {
   "cell_type": "code",
   "execution_count": 350,
   "metadata": {
    "deletable": false,
    "editable": false,
    "nbgrader": {
     "cell_type": "code",
     "checksum": "eb9ca12ea887f3a91c1fb05680fb12e9",
     "grade": true,
     "grade_id": "cell-5fd3bc522d861215",
     "locked": true,
     "points": 10,
     "schema_version": 3,
     "solution": false,
     "task": false
    }
   },
   "outputs": [],
   "source": [
    "db_file = 'lab2.db'\n",
    "conn = create_connection(db_file)\n",
    "assert fetch_variant(conn, 'X', 2836184, 'rs73632976', 'C', 'T') == ('X', 2836184, 'rs73632976', 'C', 'T', 1892.12, 'PASS', None, 0.0427, 'D', 'U', 'D', 'T', 'M', 'P', 'D', 'P', 'P', 'D', 'D', 6.5)\n",
    "conn.close()"
   ]
  },
  {
   "cell_type": "code",
   "execution_count": 351,
   "metadata": {
    "deletable": false,
    "editable": false,
    "nbgrader": {
     "cell_type": "code",
     "checksum": "999f2d60e36e7d4deae9ade0de137adb",
     "grade": true,
     "grade_id": "cell-e3f85c8b7beab623",
     "locked": true,
     "points": 10,
     "schema_version": 3,
     "solution": false,
     "task": false
    }
   },
   "outputs": [],
   "source": [
    "db_file = 'lab2.db'\n",
    "conn = create_connection(db_file)\n",
    "assert fetch_variant(conn, '5', 155935708, 'rs45559835', 'G', 'A') == ('5', 155935708, 'rs45559835', 'G', 'A', 1577.12, 'PASS', 0.0189696, 0.0451, 'D', 'D', 'T', 'T', 'L', 'D', 'D', 'P', 'B', 'T', 'D', 5.75)\n",
    "conn.close()"
   ]
  },
  {
   "cell_type": "code",
   "execution_count": 352,
   "metadata": {
    "deletable": false,
    "editable": false,
    "nbgrader": {
     "cell_type": "code",
     "checksum": "b6657c6306c075c0598f140f966d70d2",
     "grade": true,
     "grade_id": "cell-500f892df9ffe02f",
     "locked": true,
     "points": 10,
     "schema_version": 3,
     "solution": false,
     "task": false
    }
   },
   "outputs": [],
   "source": [
    "db_file = 'lab2.db'\n",
    "conn = create_connection(db_file)\n",
    "assert fetch_variant(conn, '4', 123416186, '.', 'A', 'G') == ('4', 123416186, '.', 'A', 'G', 23.25, 'PASS', None, None, None, None, None, None, None, None, None, None, None, None, None, None)\n",
    "conn.close()"
   ]
  },
  {
   "cell_type": "markdown",
   "metadata": {
    "deletable": false,
    "editable": false,
    "nbgrader": {
     "cell_type": "markdown",
     "checksum": "5b1550ea1c3ea3437d1633839f2a18a4",
     "grade": false,
     "grade_id": "cell-bcd262e0085a72c9",
     "locked": true,
     "schema_version": 3,
     "solution": false,
     "task": false
    }
   },
   "source": [
    "# Part 15 (10 Points)\n",
    "Write a function that returns the variant with the highest predictor score sum. \n",
    "\n",
    "Return the variant info the following order:\n",
    "```\n",
    "Variants.CHROM,\n",
    "Variants.POS,\n",
    "Variants.ID,\n",
    "Variants.REF,\n",
    "Variants.ALT,\n",
    "Variants.QUAL,\n",
    "Variants.FILTER,\n",
    "Variants.thousandg2015aug_all,\n",
    "Variants.ExAC_ALL,\n",
    "FATHMM_pred.prediction,\n",
    "LRT_pred.prediction,\n",
    "MetaLR_pred.prediction,\n",
    "MetaSVM_pred.prediction,\n",
    "MutationAssessor_pred.prediction,\n",
    "MutationTaster_pred.prediction,\n",
    "PROVEAN_pred.prediction,\n",
    "Polyphen2_HDIV_pred.prediction,\n",
    "Polyphen2_HVAR_pred.prediction,\n",
    "SIFT_pred.prediction,\n",
    "fathmm_MKL_coding_pred.prediction,\n",
    "sum(PredictionStats.PredictorValue)\n",
    "        \n",
    "```\n",
    "\n",
    "Again, return the predictor text values and the last column is the sum of the prediction values. "
   ]
  },
  {
   "cell_type": "code",
   "execution_count": 353,
   "metadata": {
    "deletable": false,
    "nbgrader": {
     "cell_type": "code",
     "checksum": "77b8b1a4255ee71cfed8e862b3192c1f",
     "grade": false,
     "grade_id": "cell-6b1c044f90162322",
     "locked": false,
     "schema_version": 3,
     "solution": true,
     "task": false
    }
   },
   "outputs": [],
   "source": [
    "def variant_with_highest_sum_of_predictor_value(conn):\n",
    "    \"\"\"\n",
    "    See part 15 description \n",
    "    \"\"\"\n",
    "    # YOUR CODE HERE\n",
    "    sql=\"select CHROM,POS,ID,REF,ALT,QUAL,FILTER,thousandg2015aug_all,Exac_ALL , b.prediction,c.prediction,d.prediction,e.prediction,f.prediction,g.prediction,h.prediction,i.prediction,j.prediction,k.prediction,l.prediction, m.pred from variants a inner join (select variantid, sum(predictorvalue) as pred from predictorstats group by 1 order by 2 desc limit 1 ) m on a.variantid=m.variantid left join fathmm_pred b on a.fathmm_predid=b.fathmm_predid left join LRT_pred c on a.LRT_predid=c.LRT_predid left join MetaLR_pred d on a.MetaLR_predid=d.MetaLR_predid left join MetaSVM_pred e on a.MetaSVM_predid=e.MetaSVM_predid left join MutationAssessor_pred f on a.MutationAssessor_predid=f.MutationAssessor_predid left join MutationTaster_pred g on a.MutationTaster_predid=g.MutationTaster_predid left join PROVEAN_pred h on a.PROVEAN_predid=h.PROVEAN_predid left join Polyphen2_HDIV_pred i on a.Polyphen2_HDIV_predid=i.Polyphen2_HDIV_predid left join Polyphen2_HVAR_pred j on a.Polyphen2_HVAR_predid = j.Polyphen2_HVAR_predid left join SIFT_pred k on a.SIFT_predid=k.SIFT_predid left join fathmm_MKL_coding_pred l on a.fathmm_MKL_coding_predid = l.fathmm_MKL_coding_predid;\"\n",
    "    \n",
    "    \n",
    "    with conn:\n",
    "        c = conn.cursor()\n",
    "        c.execute(sql)\n",
    "        rows=c.fetchall()\n",
    "        return rows[0]\n",
    "        \n",
    "    #raise NotImplementedError()\n",
    "\n"
   ]
  },
  {
   "cell_type": "code",
   "execution_count": 354,
   "metadata": {
    "deletable": false,
    "editable": false,
    "nbgrader": {
     "cell_type": "code",
     "checksum": "ca4c10b920229a189a27ef253dc3679c",
     "grade": true,
     "grade_id": "cell-9c7365267a16b42f",
     "locked": true,
     "points": 10,
     "schema_version": 3,
     "solution": false,
     "task": false
    }
   },
   "outputs": [],
   "source": [
    "db_file = 'lab2.db'\n",
    "conn = create_connection(db_file)\n",
    "assert variant_with_highest_sum_of_predictor_value(conn) == ('7', 87837848, '.', 'C', 'A', 418.25, 'PASS', None, None, 'T', 'D', 'D', 'D', 'H', 'D', 'D', 'D', 'D', 'D', 'D', 10.0)\n",
    "conn.close()"
   ]
  },
  {
   "cell_type": "code",
   "execution_count": null,
   "metadata": {},
   "outputs": [],
   "source": []
  },
  {
   "cell_type": "code",
   "execution_count": null,
   "metadata": {},
   "outputs": [],
   "source": []
  }
 ],
 "metadata": {
  "kernelspec": {
   "display_name": "Python 3",
   "language": "python",
   "name": "python3"
  },
  "language_info": {
   "codemirror_mode": {
    "name": "ipython",
    "version": 3
   },
   "file_extension": ".py",
   "mimetype": "text/x-python",
   "name": "python",
   "nbconvert_exporter": "python",
   "pygments_lexer": "ipython3",
   "version": "3.6.8"
  }
 },
 "nbformat": 4,
 "nbformat_minor": 2
}
