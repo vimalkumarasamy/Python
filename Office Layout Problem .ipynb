{
 "cells": [
  {
   "cell_type": "markdown",
   "metadata": {},
   "source": [
    "Given a grid with w as width, h as height. A company wants to develop an office park in the grid where each cell represents a potential building lot. The goal is for the furthest of all lots to be as near as possible to an office building. Given an input n, which is the number of buildings to be placed in the lot, determine the building placement to minimize the distance the most distant empty lot is from the building. Distance is measured in horizontal and vertical directions, i.e. diagonal distance measurement is not considered.\n",
    "\n",
    "inputs\n",
    "w: an integer, the width of the grid\n",
    "h: an integer, the height of the grid\n",
    "n: an integer, the number of buildings to be placed\n",
    "\n",
    "For example, w=4, h=4 and n=3. An optimal grid placement sets any lot within two unit distance of the building. The answer for this case is 2.\n",
    "\n",
    "\"0\" indicates optimal building placement and in this case the maximal value of all shortest distances to the closest building for each cell is \"2\".\n",
    "\n",
    "1 0 1 2\n",
    "2 1 2 1\n",
    "1 0 1 0\n",
    "2 1 2 1\n",
    "The above represents one optimal solution, there could be more like the above array rotated as an example. The above is an optimal solution because out of the 3 buildings (n=3), one building was placed at index (0,1), second was placed at (2,1) and third was placed at (2,3). The surrounding horizontal and vertical distance is shown as 1 and 2 by adding 1 each time we move horizontally and/or vertically. Note again that diagonal movement is not allowed:"
   ]
  },
  {
   "cell_type": "markdown",
   "metadata": {},
   "source": [
    "Given parameters w,h,n \n",
    "Think of a matrix w X h and n elements in the matrix are to be chosen as location of a building\n",
    "Now find the distance to the closest building from a element where there is no building \n",
    "You have to come up with a design such the distance from the farthest point to the building is minimized\n",
    "What is the farthest point's distance?"
   ]
  },
  {
   "cell_type": "code",
   "execution_count": 212,
   "metadata": {},
   "outputs": [
    {
     "data": {
      "text/plain": [
       "2"
      ]
     },
     "execution_count": 212,
     "metadata": {},
     "output_type": "execute_result"
    }
   ],
   "source": [
    "# test case\n",
    "w=7\n",
    "h=4\n",
    "n=5\n",
    "office_layout(w,h,n)"
   ]
  },
  {
   "cell_type": "code",
   "execution_count": 209,
   "metadata": {},
   "outputs": [],
   "source": [
    "# This function generates different layouts, and calls mat_dist function for the max distance\n",
    "def office_layout(w,h,n):\n",
    "    import numpy as np\n",
    "    elements=list(range(0,w*h))\n",
    "    from itertools import combinations\n",
    "    comb = combinations(elements, n) \n",
    "    dist=[]\n",
    "    for i in list(comb):\n",
    "        iterating_elements=[1]*w*h\n",
    "        for j in i:\n",
    "            iterating_elements[j]=0\n",
    "        iterating_mat=np.array(iterating_elements)\n",
    "        iterating_mat=iterating_mat.reshape(w,h)\n",
    "        dist=dist+[mat_dist(iterating_mat)]\n",
    "    return(min(dist))\n",
    "    "
   ]
  },
  {
   "cell_type": "code",
   "execution_count": 210,
   "metadata": {},
   "outputs": [],
   "source": [
    "# Function to return the maximum distance from an office park to the closest office building for a given layout\n",
    "def mat_dist(mat):\n",
    "    a,b=mat.shape\n",
    "    dist_mat=mat.copy()\n",
    "    zero_list=[]\n",
    "    for i in range(a):\n",
    "        for j in range(b):\n",
    "            if(mat[i,j]==0):\n",
    "                zero_list=zero_list+[[i,j]]\n",
    "    for i in range(a):\n",
    "        for j in range(b):\n",
    "            if(mat[i,j]!=0):\n",
    "                arr=[]\n",
    "                for k in zero_list:\n",
    "                    arr=arr+[abs(i-k[0])+abs(j-k[1])]\n",
    "                dist_mat[i,j]=min(arr)\n",
    "    return(dist_mat.max())\n",
    "                    \n",
    "            \n",
    "            "
   ]
  },
  {
   "cell_type": "code",
   "execution_count": null,
   "metadata": {},
   "outputs": [],
   "source": []
  }
 ],
 "metadata": {
  "kernelspec": {
   "display_name": "Python 3",
   "language": "python",
   "name": "python3"
  },
  "language_info": {
   "codemirror_mode": {
    "name": "ipython",
    "version": 3
   },
   "file_extension": ".py",
   "mimetype": "text/x-python",
   "name": "python",
   "nbconvert_exporter": "python",
   "pygments_lexer": "ipython3",
   "version": "3.7.3"
  }
 },
 "nbformat": 4,
 "nbformat_minor": 2
}
