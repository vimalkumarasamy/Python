{
  "nbformat": 4,
  "nbformat_minor": 0,
  "metadata": {
    "colab": {
      "name": "Numpy_Experience.ipynb",
      "provenance": [],
      "collapsed_sections": [],
      "authorship_tag": "ABX9TyPbMUJH9lo5tvCotKm2vBbW",
      "include_colab_link": true
    },
    "kernelspec": {
      "name": "python3",
      "display_name": "Python 3"
    }
  },
  "cells": [
    {
      "cell_type": "markdown",
      "metadata": {
        "id": "view-in-github",
        "colab_type": "text"
      },
      "source": [
        "<a href=\"https://colab.research.google.com/github/vimalkumarasamy/Python/blob/master/Numpy_Experience.ipynb\" target=\"_parent\"><img src=\"https://colab.research.google.com/assets/colab-badge.svg\" alt=\"Open In Colab\"/></a>"
      ]
    },
    {
      "cell_type": "code",
      "metadata": {
        "id": "ycXxgj9_j4rC",
        "colab_type": "code",
        "colab": {
          "base_uri": "https://localhost:8080/",
          "height": 69
        },
        "outputId": "8d4eba41-322c-4ef4-c0e2-31c1d83f7563"
      },
      "source": [
        "squared_values = []\n",
        "for number in range(10):\n",
        "    squared_values.append(number*number)\n",
        "\n",
        "print(squared_values)\n",
        "\n",
        "# Square a list using NumPy\n",
        "import numpy as np\n",
        "\n",
        "vector = np.array(range(10))\n",
        "scalar = 5\n",
        "print(vector * scalar)\n",
        "print(vector * vector)"
      ],
      "execution_count": 2,
      "outputs": [
        {
          "output_type": "stream",
          "text": [
            "[0, 1, 4, 9, 16, 25, 36, 49, 64, 81]\n",
            "[ 0  5 10 15 20 25 30 35 40 45]\n",
            "[ 0  1  4  9 16 25 36 49 64 81]\n"
          ],
          "name": "stdout"
        }
      ]
    },
    {
      "cell_type": "code",
      "metadata": {
        "id": "ZRjKVCTfj_Mv",
        "colab_type": "code",
        "colab": {
          "base_uri": "https://localhost:8080/",
          "height": 52
        },
        "outputId": "19078561-db97-466d-97c1-f543d3591f97"
      },
      "source": [
        "my_list = [1, 2, 3]\n",
        "print(my_list)\n",
        "\n",
        "import numpy as np\n",
        "\n",
        "# converting a list to numpy array\n",
        "my_vector = np.array(my_list)\n",
        "print(my_vector)\n",
        "\n"
      ],
      "execution_count": 10,
      "outputs": [
        {
          "output_type": "stream",
          "text": [
            "[1, 2, 3]\n",
            "[1 2 3]\n"
          ],
          "name": "stdout"
        }
      ]
    },
    {
      "cell_type": "code",
      "metadata": {
        "id": "V-PeSUXzkflp",
        "colab_type": "code",
        "colab": {
          "base_uri": "https://localhost:8080/",
          "height": 52
        },
        "outputId": "5cb35d83-8238-4bbf-cb16-c7bd12308117"
      },
      "source": [
        "# combining 2 lists as numpy array\n",
        "my_matrix = np.array([my_list, my_list])\n",
        "print(my_matrix)\n",
        "\n"
      ],
      "execution_count": 11,
      "outputs": [
        {
          "output_type": "stream",
          "text": [
            "[[1 2 3]\n",
            " [1 2 3]]\n"
          ],
          "name": "stdout"
        }
      ]
    },
    {
      "cell_type": "code",
      "metadata": {
        "id": "ZQ1Rvleel4g-",
        "colab_type": "code",
        "colab": {
          "base_uri": "https://localhost:8080/",
          "height": 52
        },
        "outputId": "e617fbe4-aa2b-47f9-f318-55baec818bda"
      },
      "source": [
        "# stacking 2 lists one above the other vertical\n",
        "x=np.vstack([my_list, my_list])\n",
        "print(x)"
      ],
      "execution_count": 14,
      "outputs": [
        {
          "output_type": "stream",
          "text": [
            "[[1 2 3]\n",
            " [1 2 3]]\n"
          ],
          "name": "stdout"
        }
      ]
    },
    {
      "cell_type": "code",
      "metadata": {
        "id": "xVL4ugvEmCCX",
        "colab_type": "code",
        "colab": {
          "base_uri": "https://localhost:8080/",
          "height": 35
        },
        "outputId": "6880dfad-4574-4139-a9c8-eb09cd91decd"
      },
      "source": [
        "# stacking 2 lists horizontally\n",
        "x=np.hstack([my_list, my_list])\n",
        "print(x)"
      ],
      "execution_count": 15,
      "outputs": [
        {
          "output_type": "stream",
          "text": [
            "[1 2 3 1 2 3]\n"
          ],
          "name": "stdout"
        }
      ]
    },
    {
      "cell_type": "code",
      "metadata": {
        "id": "DJmfOs3hmMy2",
        "colab_type": "code",
        "colab": {
          "base_uri": "https://localhost:8080/",
          "height": 52
        },
        "outputId": "3318413e-204b-4eeb-a0f4-d071f2ef794d"
      },
      "source": [
        "my_list1 = [[1,2], [3,4]]\n",
        "my_list2 = [[5,6], [7,8]]  \n",
        "np.hstack([my_list1, my_list2])   \n",
        "# np.vstack([my_list1, my_list2])"
      ],
      "execution_count": 20,
      "outputs": [
        {
          "output_type": "execute_result",
          "data": {
            "text/plain": [
              "array([[1, 2, 5, 6],\n",
              "       [3, 4, 7, 8]])"
            ]
          },
          "metadata": {
            "tags": []
          },
          "execution_count": 20
        }
      ]
    },
    {
      "cell_type": "code",
      "metadata": {
        "id": "vMLrKlCTmksx",
        "colab_type": "code",
        "colab": {
          "base_uri": "https://localhost:8080/",
          "height": 35
        },
        "outputId": "91bdbde2-11bf-416a-f295-b16c271e2998"
      },
      "source": [
        "my_list = range(10)\n",
        "print(list(my_list))"
      ],
      "execution_count": 24,
      "outputs": [
        {
          "output_type": "stream",
          "text": [
            "[0, 1, 2, 3, 4, 5, 6, 7, 8, 9]\n"
          ],
          "name": "stdout"
        }
      ]
    },
    {
      "cell_type": "code",
      "metadata": {
        "id": "krqVGdMHmo-A",
        "colab_type": "code",
        "colab": {}
      },
      "source": [
        ""
      ],
      "execution_count": 0,
      "outputs": []
    },
    {
      "cell_type": "code",
      "metadata": {
        "id": "rRYryINvmpl9",
        "colab_type": "code",
        "colab": {
          "base_uri": "https://localhost:8080/",
          "height": 35
        },
        "outputId": "bf3b4664-e7ed-4bb8-e2dc-0df048f27493"
      },
      "source": [
        "# creating a list directly\n",
        "np.arange(0,10)"
      ],
      "execution_count": 31,
      "outputs": [
        {
          "output_type": "execute_result",
          "data": {
            "text/plain": [
              "array([0, 1, 2, 3, 4, 5, 6, 7, 8, 9])"
            ]
          },
          "metadata": {
            "tags": []
          },
          "execution_count": 31
        }
      ]
    },
    {
      "cell_type": "code",
      "metadata": {
        "id": "3WeT7jlDm0gy",
        "colab_type": "code",
        "colab": {
          "base_uri": "https://localhost:8080/",
          "height": 52
        },
        "outputId": "0fafabf5-481e-4856-c360-fd3c6b722cb2"
      },
      "source": [
        "# defining 2 dimensional arrays require additional brackets\n",
        "np.zeros((2,2))"
      ],
      "execution_count": 43,
      "outputs": [
        {
          "output_type": "execute_result",
          "data": {
            "text/plain": [
              "array([[0., 0.],\n",
              "       [0., 0.]])"
            ]
          },
          "metadata": {
            "tags": []
          },
          "execution_count": 43
        }
      ]
    },
    {
      "cell_type": "code",
      "metadata": {
        "id": "JA70-NfWnHKI",
        "colab_type": "code",
        "colab": {
          "base_uri": "https://localhost:8080/",
          "height": 35
        },
        "outputId": "c0793bef-64da-47a1-8c11-1704de261f70"
      },
      "source": [
        "np.ones(3)*3"
      ],
      "execution_count": 53,
      "outputs": [
        {
          "output_type": "execute_result",
          "data": {
            "text/plain": [
              "array([3., 3., 3.])"
            ]
          },
          "metadata": {
            "tags": []
          },
          "execution_count": 53
        }
      ]
    },
    {
      "cell_type": "code",
      "metadata": {
        "id": "dIt5KaAYnVnN",
        "colab_type": "code",
        "colab": {
          "base_uri": "https://localhost:8080/",
          "height": 35
        },
        "outputId": "e6b6fddc-a1aa-4655-9311-660ef60ce516"
      },
      "source": [
        "# start, stop, how many values including the boundary conditions\n",
        "np.linspace(0,10,5)"
      ],
      "execution_count": 60,
      "outputs": [
        {
          "output_type": "execute_result",
          "data": {
            "text/plain": [
              "array([ 0. ,  2.5,  5. ,  7.5, 10. ])"
            ]
          },
          "metadata": {
            "tags": []
          },
          "execution_count": 60
        }
      ]
    },
    {
      "cell_type": "code",
      "metadata": {
        "id": "CugDSi5DnzfF",
        "colab_type": "code",
        "colab": {
          "base_uri": "https://localhost:8080/",
          "height": 69
        },
        "outputId": "3eb4af2b-454f-4bfe-bb1f-905da81cd603"
      },
      "source": [
        "# gives an identity matrix\n",
        "np.eye(3)"
      ],
      "execution_count": 63,
      "outputs": [
        {
          "output_type": "execute_result",
          "data": {
            "text/plain": [
              "array([[1., 0., 0.],\n",
              "       [0., 1., 0.],\n",
              "       [0., 0., 1.]])"
            ]
          },
          "metadata": {
            "tags": []
          },
          "execution_count": 63
        }
      ]
    },
    {
      "cell_type": "code",
      "metadata": {
        "id": "O4TADaJBn5sd",
        "colab_type": "code",
        "colab": {
          "base_uri": "https://localhost:8080/",
          "height": 35
        },
        "outputId": "7a8902c8-4a86-471e-d6fd-455465649d1e"
      },
      "source": [
        "x=np.empty(3)\n",
        "print(x)"
      ],
      "execution_count": 67,
      "outputs": [
        {
          "output_type": "stream",
          "text": [
            "[1. 1. 1.]\n"
          ],
          "name": "stdout"
        }
      ]
    },
    {
      "cell_type": "code",
      "metadata": {
        "id": "mscoAq4gn9Bf",
        "colab_type": "code",
        "colab": {
          "base_uri": "https://localhost:8080/",
          "height": 52
        },
        "outputId": "0f12fb96-08e4-47d6-c73a-ee96eaad317e"
      },
      "source": [
        "np.random.randn(7)"
      ],
      "execution_count": 72,
      "outputs": [
        {
          "output_type": "execute_result",
          "data": {
            "text/plain": [
              "array([-0.7144503 ,  0.80744412, -0.80836589, -0.43081643, -0.23374049,\n",
              "       -0.79435867, -1.07139243])"
            ]
          },
          "metadata": {
            "tags": []
          },
          "execution_count": 72
        }
      ]
    },
    {
      "cell_type": "code",
      "metadata": {
        "id": "A0XkQXoJopI6",
        "colab_type": "code",
        "colab": {
          "base_uri": "https://localhost:8080/",
          "height": 121
        },
        "outputId": "349d9123-98a4-4b27-c957-90a47d6c2354"
      },
      "source": [
        "np.random.randint(1,101,100)"
      ],
      "execution_count": 75,
      "outputs": [
        {
          "output_type": "execute_result",
          "data": {
            "text/plain": [
              "array([16, 67, 39, 87, 32, 76, 14, 10, 48, 87, 87, 80, 18, 74,  7, 58, 24,\n",
              "       82, 96, 76, 58, 90, 11, 20, 20, 10,  7, 63, 22, 94, 59, 53, 73, 42,\n",
              "       72, 87, 54, 71, 44, 39, 82, 89,  9, 82, 86, 97,  2, 71, 12, 80, 84,\n",
              "       76, 91, 55, 75, 11, 26, 32, 73, 59, 76, 59,  6, 27, 93, 70, 72, 32,\n",
              "       55, 93, 45, 37, 89, 64, 47, 88, 53, 96, 66, 84, 96, 78, 51, 62, 11,\n",
              "       23, 46, 74, 43, 48, 20, 39, 11, 11, 58, 91, 39, 11, 39, 52])"
            ]
          },
          "metadata": {
            "tags": []
          },
          "execution_count": 75
        }
      ]
    },
    {
      "cell_type": "code",
      "metadata": {
        "id": "Us7r7MPFovqy",
        "colab_type": "code",
        "colab": {
          "base_uri": "https://localhost:8080/",
          "height": 69
        },
        "outputId": "df37e324-b2a4-47f8-f7a6-cefc3d6d0108"
      },
      "source": [
        "vector = np.arange(1,10)\n",
        "print(vector.reshape(3,3))"
      ],
      "execution_count": 77,
      "outputs": [
        {
          "output_type": "stream",
          "text": [
            "[[1 2 3]\n",
            " [4 5 6]\n",
            " [7 8 9]]\n"
          ],
          "name": "stdout"
        }
      ]
    },
    {
      "cell_type": "code",
      "metadata": {
        "id": "0PCDLmtro6Rb",
        "colab_type": "code",
        "colab": {
          "base_uri": "https://localhost:8080/",
          "height": 87
        },
        "outputId": "b20a4c16-219b-44a0-f9d6-33cfe2cd3a93"
      },
      "source": [
        "vector = np.random.randint(1,50,25)\n",
        "# Min\n",
        "print(vector)\n",
        "# vector.min()\n",
        "# Max\n",
        "# vector.max()\n",
        "# # get location of min value\n",
        "index = vector.argmin()\n",
        "print(index)\n",
        "vector[index]\n",
        "# # get location of max value\n",
        "# index = vector.argmax()\n",
        "# # get shape\n",
        "# vector.shape\n",
        "\n",
        "# my_matrix = vector.reshape(5, 5)\n",
        "# my_matrix.shape"
      ],
      "execution_count": 85,
      "outputs": [
        {
          "output_type": "stream",
          "text": [
            "[16  6  2 47 49 35  7 19 31 37  3 34  1 15  7 26 14 25 44 26 22 11 43 35\n",
            " 28]\n",
            "12\n"
          ],
          "name": "stdout"
        },
        {
          "output_type": "execute_result",
          "data": {
            "text/plain": [
              "1"
            ]
          },
          "metadata": {
            "tags": []
          },
          "execution_count": 85
        }
      ]
    },
    {
      "cell_type": "code",
      "metadata": {
        "id": "cbSc2gsipYWx",
        "colab_type": "code",
        "colab": {
          "base_uri": "https://localhost:8080/",
          "height": 104
        },
        "outputId": "b0515456-cb2e-48c3-cfaf-02fa053bb5ed"
      },
      "source": [
        "vector=np.arange(10)\n",
        "print(vector)\n",
        "print(vector[3])\n",
        "print(vector[2:4])\n",
        "print(vector[2:])\n",
        "# start:end:steps\n",
        "print(vector[0:9:2])"
      ],
      "execution_count": 98,
      "outputs": [
        {
          "output_type": "stream",
          "text": [
            "[0 1 2 3 4 5 6 7 8 9]\n",
            "3\n",
            "[2 3]\n",
            "[2 3 4 5 6 7 8 9]\n",
            "[0 2 4 6 8]\n"
          ],
          "name": "stdout"
        }
      ]
    },
    {
      "cell_type": "code",
      "metadata": {
        "id": "dpjAgin9pb8-",
        "colab_type": "code",
        "colab": {
          "base_uri": "https://localhost:8080/",
          "height": 52
        },
        "outputId": "3ff2c4b0-bc64-4e71-ab06-875c7d639a08"
      },
      "source": [
        "print(vector)\n",
        "vector[2:6]=100\n",
        "print(vector)"
      ],
      "execution_count": 99,
      "outputs": [
        {
          "output_type": "stream",
          "text": [
            "[0 1 2 3 4 5 6 7 8 9]\n",
            "[  0   1 100 100 100 100   6   7   8   9]\n"
          ],
          "name": "stdout"
        }
      ]
    },
    {
      "cell_type": "code",
      "metadata": {
        "id": "mE4AFUxQrpSR",
        "colab_type": "code",
        "colab": {
          "base_uri": "https://localhost:8080/",
          "height": 35
        },
        "outputId": "299d48b0-90e0-4838-b12a-e002c066e05f"
      },
      "source": [
        "# sliced array still points to the same memory location\n",
        "vector = np.array(range(10))\n",
        "my_slice = vector[3:7]\n",
        "my_slice[:] = 20\n",
        "print(vector)"
      ],
      "execution_count": 101,
      "outputs": [
        {
          "output_type": "stream",
          "text": [
            "[ 0  1  2 20 20 20 20  7  8  9]\n"
          ],
          "name": "stdout"
        }
      ]
    },
    {
      "cell_type": "code",
      "metadata": {
        "id": "40nve30VrtjJ",
        "colab_type": "code",
        "colab": {
          "base_uri": "https://localhost:8080/",
          "height": 104
        },
        "outputId": "315abb24-0213-4ec4-b57b-98db745485df"
      },
      "source": [
        "matrix = np.array(range(1,10)).reshape((3,3))\n",
        "print(matrix)\n",
        "print(matrix[0,0])\n",
        "print(matrix[0][2] )\n",
        "# matrix[2,2]  \n",
        "# matrix[2][2] "
      ],
      "execution_count": 106,
      "outputs": [
        {
          "output_type": "stream",
          "text": [
            "[[1 2 3]\n",
            " [4 5 6]\n",
            " [7 8 9]]\n",
            "1\n",
            "3\n"
          ],
          "name": "stdout"
        }
      ]
    },
    {
      "cell_type": "code",
      "metadata": {
        "id": "JOZmcNoBr8Ji",
        "colab_type": "code",
        "colab": {
          "base_uri": "https://localhost:8080/",
          "height": 69
        },
        "outputId": "507868d2-cd6d-490a-d999-41816708ff71"
      },
      "source": [
        "matrix[:,1:]"
      ],
      "execution_count": 108,
      "outputs": [
        {
          "output_type": "execute_result",
          "data": {
            "text/plain": [
              "array([[2, 3],\n",
              "       [5, 6],\n",
              "       [8, 9]])"
            ]
          },
          "metadata": {
            "tags": []
          },
          "execution_count": 108
        }
      ]
    },
    {
      "cell_type": "code",
      "metadata": {
        "id": "vVfN3cz0sGKM",
        "colab_type": "code",
        "colab": {
          "base_uri": "https://localhost:8080/",
          "height": 35
        },
        "outputId": "530f3fa3-9136-4f23-a05e-db1d2985aeed"
      },
      "source": [
        "vector=np.arange(10)\n",
        "vector=vector.reshape(2,5)\n",
        "vector[vector>2]"
      ],
      "execution_count": 117,
      "outputs": [
        {
          "output_type": "execute_result",
          "data": {
            "text/plain": [
              "array([3, 4, 5, 6, 7, 8, 9])"
            ]
          },
          "metadata": {
            "tags": []
          },
          "execution_count": 117
        }
      ]
    },
    {
      "cell_type": "code",
      "metadata": {
        "id": "6-zHhRyQsZim",
        "colab_type": "code",
        "colab": {
          "base_uri": "https://localhost:8080/",
          "height": 52
        },
        "outputId": "ff798e9f-c3f4-4827-8151-b383f53a2ef3"
      },
      "source": [
        "vector = np.arange(10)\n",
        "np.sqrt(vector)"
      ],
      "execution_count": 121,
      "outputs": [
        {
          "output_type": "execute_result",
          "data": {
            "text/plain": [
              "array([0.        , 1.        , 1.41421356, 1.73205081, 2.        ,\n",
              "       2.23606798, 2.44948974, 2.64575131, 2.82842712, 3.        ])"
            ]
          },
          "metadata": {
            "tags": []
          },
          "execution_count": 121
        }
      ]
    },
    {
      "cell_type": "code",
      "metadata": {
        "id": "g1Iz94IJs_5i",
        "colab_type": "code",
        "colab": {
          "base_uri": "https://localhost:8080/",
          "height": 35
        },
        "outputId": "c080d93a-9f0f-44ea-ac66-12fa6400a9fc"
      },
      "source": [
        "vector.max()"
      ],
      "execution_count": 119,
      "outputs": [
        {
          "output_type": "execute_result",
          "data": {
            "text/plain": [
              "9"
            ]
          },
          "metadata": {
            "tags": []
          },
          "execution_count": 119
        }
      ]
    },
    {
      "cell_type": "code",
      "metadata": {
        "id": "NCEjdH8utQMx",
        "colab_type": "code",
        "colab": {
          "base_uri": "https://localhost:8080/",
          "height": 35
        },
        "outputId": "f414803d-5c0f-4cc6-b6fd-6b8931c87c8e"
      },
      "source": [
        "sum(vector>3)"
      ],
      "execution_count": 123,
      "outputs": [
        {
          "output_type": "execute_result",
          "data": {
            "text/plain": [
              "6"
            ]
          },
          "metadata": {
            "tags": []
          },
          "execution_count": 123
        }
      ]
    },
    {
      "cell_type": "code",
      "metadata": {
        "id": "sxEQdU3ytX6w",
        "colab_type": "code",
        "colab": {
          "base_uri": "https://localhost:8080/",
          "height": 191
        },
        "outputId": "daef0403-7ea7-4f97-c002-8acc6e75d4d1"
      },
      "source": [
        "matrix = np.random.rand(5,5)\n",
        "print(matrix)\n",
        "np.floor(matrix*1000)/1000\n"
      ],
      "execution_count": 127,
      "outputs": [
        {
          "output_type": "stream",
          "text": [
            "[[0.99535938 0.35473398 0.5854366  0.9970265  0.37453401]\n",
            " [0.18559535 0.6897614  0.99890315 0.15496605 0.19289019]\n",
            " [0.53660373 0.0883539  0.51119485 0.04923945 0.88134892]\n",
            " [0.20559865 0.6129216  0.54711554 0.02673125 0.65846502]\n",
            " [0.01017143 0.84231264 0.30066279 0.73800024 0.66539192]]\n"
          ],
          "name": "stdout"
        },
        {
          "output_type": "execute_result",
          "data": {
            "text/plain": [
              "array([[0.995, 0.354, 0.585, 0.997, 0.374],\n",
              "       [0.185, 0.689, 0.998, 0.154, 0.192],\n",
              "       [0.536, 0.088, 0.511, 0.049, 0.881],\n",
              "       [0.205, 0.612, 0.547, 0.026, 0.658],\n",
              "       [0.01 , 0.842, 0.3  , 0.738, 0.665]])"
            ]
          },
          "metadata": {
            "tags": []
          },
          "execution_count": 127
        }
      ]
    },
    {
      "cell_type": "code",
      "metadata": {
        "id": "ktpP0jU0tmri",
        "colab_type": "code",
        "colab": {
          "base_uri": "https://localhost:8080/",
          "height": 87
        },
        "outputId": "06189938-9ab0-409b-ef1b-4381c90b329b"
      },
      "source": [
        "matrix = np.arange(1,10).reshape(3,3)\n",
        "print(matrix)\n",
        "matrix.sum(axis=1)"
      ],
      "execution_count": 134,
      "outputs": [
        {
          "output_type": "stream",
          "text": [
            "[[1 2 3]\n",
            " [4 5 6]\n",
            " [7 8 9]]\n"
          ],
          "name": "stdout"
        },
        {
          "output_type": "execute_result",
          "data": {
            "text/plain": [
              "array([ 6, 15, 24])"
            ]
          },
          "metadata": {
            "tags": []
          },
          "execution_count": 134
        }
      ]
    },
    {
      "cell_type": "code",
      "metadata": {
        "id": "sFtVbK0Etv6K",
        "colab_type": "code",
        "colab": {
          "base_uri": "https://localhost:8080/",
          "height": 35
        },
        "outputId": "1983f7a1-a2d7-4755-9b90-354e369cbbab"
      },
      "source": [
        "matrix.cumsum()"
      ],
      "execution_count": 135,
      "outputs": [
        {
          "output_type": "execute_result",
          "data": {
            "text/plain": [
              "array([ 1,  3,  6, 10, 15, 21, 28, 36, 45])"
            ]
          },
          "metadata": {
            "tags": []
          },
          "execution_count": 135
        }
      ]
    },
    {
      "cell_type": "code",
      "metadata": {
        "id": "E6Q4tak6t8_-",
        "colab_type": "code",
        "colab": {
          "base_uri": "https://localhost:8080/",
          "height": 52
        },
        "outputId": "37b36411-d50a-423a-d414-7ca50fdb7954"
      },
      "source": [
        "matrix.cumprod()"
      ],
      "execution_count": 136,
      "outputs": [
        {
          "output_type": "execute_result",
          "data": {
            "text/plain": [
              "array([     1,      2,      6,     24,    120,    720,   5040,  40320,\n",
              "       362880])"
            ]
          },
          "metadata": {
            "tags": []
          },
          "execution_count": 136
        }
      ]
    },
    {
      "cell_type": "code",
      "metadata": {
        "id": "6kCFf_M4uBCv",
        "colab_type": "code",
        "colab": {
          "base_uri": "https://localhost:8080/",
          "height": 35
        },
        "outputId": "b7967b3c-e430-4b88-a0b6-e91fe9ea27ca"
      },
      "source": [
        "np.unique(matrix)"
      ],
      "execution_count": 137,
      "outputs": [
        {
          "output_type": "execute_result",
          "data": {
            "text/plain": [
              "array([1, 2, 3, 4, 5, 6, 7, 8, 9])"
            ]
          },
          "metadata": {
            "tags": []
          },
          "execution_count": 137
        }
      ]
    },
    {
      "cell_type": "code",
      "metadata": {
        "id": "G0ZjUX_buFP7",
        "colab_type": "code",
        "colab": {
          "base_uri": "https://localhost:8080/",
          "height": 35
        },
        "outputId": "c0b03afc-5da6-4c11-882b-3b369e8d24f4"
      },
      "source": [
        "matrix = np.array([1,2,3]*3).reshape(3,3)\n",
        "np.unique(matrix.reshape(3,3))"
      ],
      "execution_count": 139,
      "outputs": [
        {
          "output_type": "execute_result",
          "data": {
            "text/plain": [
              "array([1, 2, 3])"
            ]
          },
          "metadata": {
            "tags": []
          },
          "execution_count": 139
        }
      ]
    },
    {
      "cell_type": "code",
      "metadata": {
        "id": "MD0P_LLIuLX6",
        "colab_type": "code",
        "colab": {}
      },
      "source": [
        ""
      ],
      "execution_count": 0,
      "outputs": []
    }
  ]
}