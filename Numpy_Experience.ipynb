{
  "nbformat": 4,
  "nbformat_minor": 0,
  "metadata": {
    "colab": {
      "name": "Numpy_Experience.ipynb",
      "provenance": [],
      "collapsed_sections": [],
      "authorship_tag": "ABX9TyOPWdRN6O6rsLd3rOmJrmBt",
      "include_colab_link": true
    },
    "kernelspec": {
      "name": "python3",
      "display_name": "Python 3"
    }
  },
  "cells": [
    {
      "cell_type": "markdown",
      "metadata": {
        "id": "view-in-github",
        "colab_type": "text"
      },
      "source": [
        "<a href=\"https://colab.research.google.com/github/vimalkumarasamy/Python/blob/master/Numpy_Experience.ipynb\" target=\"_parent\"><img src=\"https://colab.research.google.com/assets/colab-badge.svg\" alt=\"Open In Colab\"/></a>"
      ]
    },
    {
      "cell_type": "code",
      "metadata": {
        "id": "ycXxgj9_j4rC",
        "colab_type": "code",
        "colab": {
          "base_uri": "https://localhost:8080/",
          "height": 69
        },
        "outputId": "8d4eba41-322c-4ef4-c0e2-31c1d83f7563"
      },
      "source": [
        "squared_values = []\n",
        "for number in range(10):\n",
        "    squared_values.append(number*number)\n",
        "\n",
        "print(squared_values)\n",
        "\n",
        "# Square a list using NumPy\n",
        "import numpy as np\n",
        "\n",
        "vector = np.array(range(10))\n",
        "scalar = 5\n",
        "print(vector * scalar)\n",
        "print(vector * vector)"
      ],
      "execution_count": 2,
      "outputs": [
        {
          "output_type": "stream",
          "text": [
            "[0, 1, 4, 9, 16, 25, 36, 49, 64, 81]\n",
            "[ 0  5 10 15 20 25 30 35 40 45]\n",
            "[ 0  1  4  9 16 25 36 49 64 81]\n"
          ],
          "name": "stdout"
        }
      ]
    },
    {
      "cell_type": "code",
      "metadata": {
        "id": "ZRjKVCTfj_Mv",
        "colab_type": "code",
        "colab": {
          "base_uri": "https://localhost:8080/",
          "height": 52
        },
        "outputId": "19078561-db97-466d-97c1-f543d3591f97"
      },
      "source": [
        "my_list = [1, 2, 3]\n",
        "print(my_list)\n",
        "\n",
        "import numpy as np\n",
        "\n",
        "# converting a list to numpy array\n",
        "my_vector = np.array(my_list)\n",
        "print(my_vector)\n",
        "\n"
      ],
      "execution_count": 10,
      "outputs": [
        {
          "output_type": "stream",
          "text": [
            "[1, 2, 3]\n",
            "[1 2 3]\n"
          ],
          "name": "stdout"
        }
      ]
    },
    {
      "cell_type": "code",
      "metadata": {
        "id": "V-PeSUXzkflp",
        "colab_type": "code",
        "colab": {
          "base_uri": "https://localhost:8080/",
          "height": 52
        },
        "outputId": "5cb35d83-8238-4bbf-cb16-c7bd12308117"
      },
      "source": [
        "# combining 2 lists as numpy array\n",
        "my_matrix = np.array([my_list, my_list])\n",
        "print(my_matrix)\n",
        "\n"
      ],
      "execution_count": 11,
      "outputs": [
        {
          "output_type": "stream",
          "text": [
            "[[1 2 3]\n",
            " [1 2 3]]\n"
          ],
          "name": "stdout"
        }
      ]
    },
    {
      "cell_type": "code",
      "metadata": {
        "id": "ZQ1Rvleel4g-",
        "colab_type": "code",
        "colab": {
          "base_uri": "https://localhost:8080/",
          "height": 52
        },
        "outputId": "e617fbe4-aa2b-47f9-f318-55baec818bda"
      },
      "source": [
        "# stacking 2 lists one above the other vertical\n",
        "x=np.vstack([my_list, my_list])\n",
        "print(x)"
      ],
      "execution_count": 14,
      "outputs": [
        {
          "output_type": "stream",
          "text": [
            "[[1 2 3]\n",
            " [1 2 3]]\n"
          ],
          "name": "stdout"
        }
      ]
    },
    {
      "cell_type": "code",
      "metadata": {
        "id": "xVL4ugvEmCCX",
        "colab_type": "code",
        "colab": {
          "base_uri": "https://localhost:8080/",
          "height": 35
        },
        "outputId": "6880dfad-4574-4139-a9c8-eb09cd91decd"
      },
      "source": [
        "# stacking 2 lists horizontally\n",
        "x=np.hstack([my_list, my_list])\n",
        "print(x)"
      ],
      "execution_count": 15,
      "outputs": [
        {
          "output_type": "stream",
          "text": [
            "[1 2 3 1 2 3]\n"
          ],
          "name": "stdout"
        }
      ]
    },
    {
      "cell_type": "code",
      "metadata": {
        "id": "DJmfOs3hmMy2",
        "colab_type": "code",
        "colab": {
          "base_uri": "https://localhost:8080/",
          "height": 52
        },
        "outputId": "3318413e-204b-4eeb-a0f4-d071f2ef794d"
      },
      "source": [
        "my_list1 = [[1,2], [3,4]]\n",
        "my_list2 = [[5,6], [7,8]]  \n",
        "np.hstack([my_list1, my_list2])   \n",
        "# np.vstack([my_list1, my_list2])"
      ],
      "execution_count": 20,
      "outputs": [
        {
          "output_type": "execute_result",
          "data": {
            "text/plain": [
              "array([[1, 2, 5, 6],\n",
              "       [3, 4, 7, 8]])"
            ]
          },
          "metadata": {
            "tags": []
          },
          "execution_count": 20
        }
      ]
    },
    {
      "cell_type": "code",
      "metadata": {
        "id": "vMLrKlCTmksx",
        "colab_type": "code",
        "colab": {
          "base_uri": "https://localhost:8080/",
          "height": 35
        },
        "outputId": "91bdbde2-11bf-416a-f295-b16c271e2998"
      },
      "source": [
        "my_list = range(10)\n",
        "print(list(my_list))"
      ],
      "execution_count": 24,
      "outputs": [
        {
          "output_type": "stream",
          "text": [
            "[0, 1, 2, 3, 4, 5, 6, 7, 8, 9]\n"
          ],
          "name": "stdout"
        }
      ]
    },
    {
      "cell_type": "code",
      "metadata": {
        "id": "krqVGdMHmo-A",
        "colab_type": "code",
        "colab": {}
      },
      "source": [
        ""
      ],
      "execution_count": 0,
      "outputs": []
    },
    {
      "cell_type": "code",
      "metadata": {
        "id": "rRYryINvmpl9",
        "colab_type": "code",
        "colab": {
          "base_uri": "https://localhost:8080/",
          "height": 35
        },
        "outputId": "bf3b4664-e7ed-4bb8-e2dc-0df048f27493"
      },
      "source": [
        "# creating a list directly\n",
        "np.arange(0,10)"
      ],
      "execution_count": 31,
      "outputs": [
        {
          "output_type": "execute_result",
          "data": {
            "text/plain": [
              "array([0, 1, 2, 3, 4, 5, 6, 7, 8, 9])"
            ]
          },
          "metadata": {
            "tags": []
          },
          "execution_count": 31
        }
      ]
    },
    {
      "cell_type": "code",
      "metadata": {
        "id": "3WeT7jlDm0gy",
        "colab_type": "code",
        "colab": {
          "base_uri": "https://localhost:8080/",
          "height": 52
        },
        "outputId": "0fafabf5-481e-4856-c360-fd3c6b722cb2"
      },
      "source": [
        "# defining 2 dimensional arrays require additional brackets\n",
        "np.zeros((2,2))"
      ],
      "execution_count": 43,
      "outputs": [
        {
          "output_type": "execute_result",
          "data": {
            "text/plain": [
              "array([[0., 0.],\n",
              "       [0., 0.]])"
            ]
          },
          "metadata": {
            "tags": []
          },
          "execution_count": 43
        }
      ]
    },
    {
      "cell_type": "code",
      "metadata": {
        "id": "JA70-NfWnHKI",
        "colab_type": "code",
        "colab": {
          "base_uri": "https://localhost:8080/",
          "height": 35
        },
        "outputId": "c0793bef-64da-47a1-8c11-1704de261f70"
      },
      "source": [
        "np.ones(3)*3"
      ],
      "execution_count": 53,
      "outputs": [
        {
          "output_type": "execute_result",
          "data": {
            "text/plain": [
              "array([3., 3., 3.])"
            ]
          },
          "metadata": {
            "tags": []
          },
          "execution_count": 53
        }
      ]
    },
    {
      "cell_type": "code",
      "metadata": {
        "id": "dIt5KaAYnVnN",
        "colab_type": "code",
        "colab": {
          "base_uri": "https://localhost:8080/",
          "height": 35
        },
        "outputId": "e6b6fddc-a1aa-4655-9311-660ef60ce516"
      },
      "source": [
        "# start, stop, how many values including the boundary conditions\n",
        "np.linspace(0,10,5)"
      ],
      "execution_count": 60,
      "outputs": [
        {
          "output_type": "execute_result",
          "data": {
            "text/plain": [
              "array([ 0. ,  2.5,  5. ,  7.5, 10. ])"
            ]
          },
          "metadata": {
            "tags": []
          },
          "execution_count": 60
        }
      ]
    },
    {
      "cell_type": "code",
      "metadata": {
        "id": "CugDSi5DnzfF",
        "colab_type": "code",
        "colab": {
          "base_uri": "https://localhost:8080/",
          "height": 69
        },
        "outputId": "3eb4af2b-454f-4bfe-bb1f-905da81cd603"
      },
      "source": [
        "# gives an identity matrix\n",
        "np.eye(3)"
      ],
      "execution_count": 63,
      "outputs": [
        {
          "output_type": "execute_result",
          "data": {
            "text/plain": [
              "array([[1., 0., 0.],\n",
              "       [0., 1., 0.],\n",
              "       [0., 0., 1.]])"
            ]
          },
          "metadata": {
            "tags": []
          },
          "execution_count": 63
        }
      ]
    },
    {
      "cell_type": "code",
      "metadata": {
        "id": "O4TADaJBn5sd",
        "colab_type": "code",
        "colab": {
          "base_uri": "https://localhost:8080/",
          "height": 35
        },
        "outputId": "7a8902c8-4a86-471e-d6fd-455465649d1e"
      },
      "source": [
        "x=np.empty(3)\n",
        "print(x)"
      ],
      "execution_count": 67,
      "outputs": [
        {
          "output_type": "stream",
          "text": [
            "[1. 1. 1.]\n"
          ],
          "name": "stdout"
        }
      ]
    },
    {
      "cell_type": "code",
      "metadata": {
        "id": "mscoAq4gn9Bf",
        "colab_type": "code",
        "colab": {
          "base_uri": "https://localhost:8080/",
          "height": 52
        },
        "outputId": "0f12fb96-08e4-47d6-c73a-ee96eaad317e"
      },
      "source": [
        "np.random.randn(7)"
      ],
      "execution_count": 72,
      "outputs": [
        {
          "output_type": "execute_result",
          "data": {
            "text/plain": [
              "array([-0.7144503 ,  0.80744412, -0.80836589, -0.43081643, -0.23374049,\n",
              "       -0.79435867, -1.07139243])"
            ]
          },
          "metadata": {
            "tags": []
          },
          "execution_count": 72
        }
      ]
    },
    {
      "cell_type": "code",
      "metadata": {
        "id": "A0XkQXoJopI6",
        "colab_type": "code",
        "colab": {
          "base_uri": "https://localhost:8080/",
          "height": 121
        },
        "outputId": "349d9123-98a4-4b27-c957-90a47d6c2354"
      },
      "source": [
        "np.random.randint(1,101,100)"
      ],
      "execution_count": 75,
      "outputs": [
        {
          "output_type": "execute_result",
          "data": {
            "text/plain": [
              "array([16, 67, 39, 87, 32, 76, 14, 10, 48, 87, 87, 80, 18, 74,  7, 58, 24,\n",
              "       82, 96, 76, 58, 90, 11, 20, 20, 10,  7, 63, 22, 94, 59, 53, 73, 42,\n",
              "       72, 87, 54, 71, 44, 39, 82, 89,  9, 82, 86, 97,  2, 71, 12, 80, 84,\n",
              "       76, 91, 55, 75, 11, 26, 32, 73, 59, 76, 59,  6, 27, 93, 70, 72, 32,\n",
              "       55, 93, 45, 37, 89, 64, 47, 88, 53, 96, 66, 84, 96, 78, 51, 62, 11,\n",
              "       23, 46, 74, 43, 48, 20, 39, 11, 11, 58, 91, 39, 11, 39, 52])"
            ]
          },
          "metadata": {
            "tags": []
          },
          "execution_count": 75
        }
      ]
    },
    {
      "cell_type": "code",
      "metadata": {
        "id": "Us7r7MPFovqy",
        "colab_type": "code",
        "colab": {
          "base_uri": "https://localhost:8080/",
          "height": 69
        },
        "outputId": "df37e324-b2a4-47f8-f7a6-cefc3d6d0108"
      },
      "source": [
        "vector = np.arange(1,10)\n",
        "print(vector.reshape(3,3))"
      ],
      "execution_count": 77,
      "outputs": [
        {
          "output_type": "stream",
          "text": [
            "[[1 2 3]\n",
            " [4 5 6]\n",
            " [7 8 9]]\n"
          ],
          "name": "stdout"
        }
      ]
    },
    {
      "cell_type": "code",
      "metadata": {
        "id": "0PCDLmtro6Rb",
        "colab_type": "code",
        "colab": {
          "base_uri": "https://localhost:8080/",
          "height": 87
        },
        "outputId": "b20a4c16-219b-44a0-f9d6-33cfe2cd3a93"
      },
      "source": [
        "vector = np.random.randint(1,50,25)\n",
        "# Min\n",
        "print(vector)\n",
        "# vector.min()\n",
        "# Max\n",
        "# vector.max()\n",
        "# # get location of min value\n",
        "index = vector.argmin()\n",
        "print(index)\n",
        "vector[index]\n",
        "# # get location of max value\n",
        "# index = vector.argmax()\n",
        "# # get shape\n",
        "# vector.shape\n",
        "\n",
        "# my_matrix = vector.reshape(5, 5)\n",
        "# my_matrix.shape"
      ],
      "execution_count": 85,
      "outputs": [
        {
          "output_type": "stream",
          "text": [
            "[16  6  2 47 49 35  7 19 31 37  3 34  1 15  7 26 14 25 44 26 22 11 43 35\n",
            " 28]\n",
            "12\n"
          ],
          "name": "stdout"
        },
        {
          "output_type": "execute_result",
          "data": {
            "text/plain": [
              "1"
            ]
          },
          "metadata": {
            "tags": []
          },
          "execution_count": 85
        }
      ]
    },
    {
      "cell_type": "code",
      "metadata": {
        "id": "cbSc2gsipYWx",
        "colab_type": "code",
        "colab": {
          "base_uri": "https://localhost:8080/",
          "height": 104
        },
        "outputId": "b0515456-cb2e-48c3-cfaf-02fa053bb5ed"
      },
      "source": [
        "vector=np.arange(10)\n",
        "print(vector)\n",
        "print(vector[3])\n",
        "print(vector[2:4])\n",
        "print(vector[2:])\n",
        "# start:end:steps\n",
        "print(vector[0:9:2])"
      ],
      "execution_count": 98,
      "outputs": [
        {
          "output_type": "stream",
          "text": [
            "[0 1 2 3 4 5 6 7 8 9]\n",
            "3\n",
            "[2 3]\n",
            "[2 3 4 5 6 7 8 9]\n",
            "[0 2 4 6 8]\n"
          ],
          "name": "stdout"
        }
      ]
    },
    {
      "cell_type": "code",
      "metadata": {
        "id": "dpjAgin9pb8-",
        "colab_type": "code",
        "colab": {
          "base_uri": "https://localhost:8080/",
          "height": 52
        },
        "outputId": "3ff2c4b0-bc64-4e71-ab06-875c7d639a08"
      },
      "source": [
        "print(vector)\n",
        "vector[2:6]=100\n",
        "print(vector)"
      ],
      "execution_count": 99,
      "outputs": [
        {
          "output_type": "stream",
          "text": [
            "[0 1 2 3 4 5 6 7 8 9]\n",
            "[  0   1 100 100 100 100   6   7   8   9]\n"
          ],
          "name": "stdout"
        }
      ]
    }
  ]
}