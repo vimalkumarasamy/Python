{
  "nbformat": 4,
  "nbformat_minor": 0,
  "metadata": {
    "colab": {
      "name": "Linked_list.ipynb",
      "provenance": [],
      "collapsed_sections": [],
      "include_colab_link": true
    },
    "kernelspec": {
      "name": "python3",
      "display_name": "Python 3"
    }
  },
  "cells": [
    {
      "cell_type": "markdown",
      "metadata": {
        "id": "view-in-github",
        "colab_type": "text"
      },
      "source": [
        "<a href=\"https://colab.research.google.com/github/vimalkumar2992/Python/blob/master/Linked_list.ipynb\" target=\"_parent\"><img src=\"https://colab.research.google.com/assets/colab-badge.svg\" alt=\"Open In Colab\"/></a>"
      ]
    },
    {
      "cell_type": "code",
      "metadata": {
        "id": "immsVU7_am-e",
        "colab_type": "code",
        "colab": {}
      },
      "source": [
        "# This code is to implement and understand how linked list work\n",
        "# Reference: https://www.codefellows.org/blog/implementing-a-singly-linked-list-in-python/"
      ],
      "execution_count": 0,
      "outputs": []
    },
    {
      "cell_type": "code",
      "metadata": {
        "id": "b8mhvrMrbKcd",
        "colab_type": "code",
        "colab": {}
      },
      "source": [
        "# This class initializes a node, the data stores in the node and the next node, the link is initially set to none\n",
        "# We can choose to create the node, and later update the data / link\n",
        "# Does every node should have a name ?  Read this https://stackoverflow.com/questions/42319622/in-a-linked-list-why-dont-we-give-a-name-to-each-node\n",
        "# If we are creating a linked list, there is no need to name every node. As it will nver be used\n",
        "class Node(object):\n",
        "\n",
        "    def __init__(self, data=None, next_node=None):\n",
        "        self.data = data\n",
        "        self.next_node = next_node\n",
        "\n",
        "    def get_data(self):\n",
        "        return self.data\n",
        "\n",
        "    def get_next(self):\n",
        "        return self.next_node\n",
        "\n",
        "    def set_next(self, new_next):\n",
        "        self.next_node = new_next"
      ],
      "execution_count": 0,
      "outputs": []
    },
    {
      "cell_type": "code",
      "metadata": {
        "id": "6EDZhRCtbQW_",
        "colab_type": "code",
        "colab": {}
      },
      "source": [
        "# This class initializes a linked list, and through the other methods we can perform various operations with the linked lists\n",
        "# Always create a list with a head node, it makes the job so simple\n",
        "class LinkedList(object):\n",
        "\n",
        "    def __init__(self, head=None):\n",
        "        self.head = head\n",
        "\n",
        "# Reads a new data, creates a node with this data, points the new node to the previous head, makes the new node as head\n",
        "    def insert(self, data):\n",
        "        new_node = Node(data)\n",
        "        new_node.set_next(self.head)\n",
        "        self.head = new_node\n",
        "\n",
        "# Starts from head, loops through intil the next node is not present - which is the end of the list. On the way it kept incrementing the count\n",
        "    def size(self):\n",
        "        current = self.head\n",
        "        count = 0\n",
        "        while current:\n",
        "            count += 1\n",
        "            current = current.get_next()\n",
        "        return count\n",
        "\n",
        "# Starts at the head node, it checks if the current node's data is same as the data given. If yes returns the current node, else iterates to the next one\n",
        "# While stops when the data is matched or when the end is reached (current is None at the end of the list)\n",
        "    def search(self, data):\n",
        "        current = self.head\n",
        "        found = False\n",
        "        while current and found is False:\n",
        "            if current.get_data() == data:\n",
        "                found = True\n",
        "            else:\n",
        "                current = current.get_next()\n",
        "        if current is None:\n",
        "            raise ValueError(\"Data not in list\")\n",
        "        return current\n",
        "\n",
        "# This starts with searchig the node that matches the data, later saves previous and current node\n",
        "# If previous is none, then the current node is head, so it just makes the next node as the head of the list\n",
        "# If previous is not none, then all it does it points the previous node to the next node - it just removes the current node from the list - so its deleted from the list\n",
        "# I assume that when an object exist without a name and a link, it will be deleted internally by python\n",
        "# I think the deletion works only on the first match, so if there are multiple values of 4 in the list, this function deletes the first occurence of 4, we can modify this if needed though\n",
        "\n",
        "\n",
        "    def delete(self, data):\n",
        "        current = self.head\n",
        "        previous = None\n",
        "        found = False\n",
        "        while current and found is False:\n",
        "            if current.get_data() == data:\n",
        "                found = True\n",
        "            else:\n",
        "                previous = current\n",
        "                current = current.get_next()\n",
        "        if current is None:\n",
        "            raise ValueError(\"Data not in list\")\n",
        "        if previous is None:\n",
        "            self.head = current.get_next()\n",
        "        else:\n",
        "            previous.set_next(current.get_next())"
      ],
      "execution_count": 0,
      "outputs": []
    },
    {
      "cell_type": "code",
      "metadata": {
        "id": "e1_DwSERbWKP",
        "colab_type": "code",
        "colab": {}
      },
      "source": [
        "# Let's create some nodes and see how it fits in linked list"
      ],
      "execution_count": 0,
      "outputs": []
    },
    {
      "cell_type": "code",
      "metadata": {
        "id": "Z1gfLOU8bXiH",
        "colab_type": "code",
        "colab": {}
      },
      "source": [
        "# creating 2 sample nodes, without any linkage yet\n",
        "X=Node(3,)\n",
        "Y=Node(4,)"
      ],
      "execution_count": 0,
      "outputs": []
    },
    {
      "cell_type": "code",
      "metadata": {
        "id": "HEtgDLBBbzm8",
        "colab_type": "code",
        "colab": {}
      },
      "source": [
        "# using the set_next method on X object to create a linkage \n",
        "# X -> Y\n",
        "X.set_next(Y)"
      ],
      "execution_count": 0,
      "outputs": []
    },
    {
      "cell_type": "code",
      "metadata": {
        "id": "cglVVV_HiARF",
        "colab_type": "code",
        "colab": {
          "base_uri": "https://localhost:8080/",
          "height": 34
        },
        "outputId": "e0857377-a984-45f9-9d1e-2a055db44027"
      },
      "source": [
        "# Accessing the data from the node that is next to X\n",
        "X.next_node.get_data()"
      ],
      "execution_count": 37,
      "outputs": [
        {
          "output_type": "execute_result",
          "data": {
            "text/plain": [
              "4"
            ]
          },
          "metadata": {
            "tags": []
          },
          "execution_count": 37
        }
      ]
    },
    {
      "cell_type": "code",
      "metadata": {
        "id": "nyBW3iDdnc-S",
        "colab_type": "code",
        "colab": {}
      },
      "source": [
        "# Let's experimemt with the LinkedList class\n",
        "\n",
        "# A=Node(3,)\n",
        "my_list=LinkedList(Node(3,))"
      ],
      "execution_count": 0,
      "outputs": []
    },
    {
      "cell_type": "code",
      "metadata": {
        "id": "zs9prd-fpLyp",
        "colab_type": "code",
        "colab": {}
      },
      "source": [
        "my_list.insert(4)"
      ],
      "execution_count": 0,
      "outputs": []
    },
    {
      "cell_type": "code",
      "metadata": {
        "id": "RyrdMVW4pgea",
        "colab_type": "code",
        "colab": {
          "base_uri": "https://localhost:8080/",
          "height": 34
        },
        "outputId": "bf2e121d-bceb-41e8-91f9-7ee57a4ee5a4"
      },
      "source": [
        "if my_list.search(3):\n",
        "  print(\"3 found\")"
      ],
      "execution_count": 77,
      "outputs": [
        {
          "output_type": "stream",
          "text": [
            "3 found\n"
          ],
          "name": "stdout"
        }
      ]
    },
    {
      "cell_type": "code",
      "metadata": {
        "id": "jrl1fkV9qBFF",
        "colab_type": "code",
        "colab": {}
      },
      "source": [
        ""
      ],
      "execution_count": 0,
      "outputs": []
    }
  ]
}