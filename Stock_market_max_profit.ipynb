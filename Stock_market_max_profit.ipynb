{
  "nbformat": 4,
  "nbformat_minor": 0,
  "metadata": {
    "colab": {
      "name": "Stock_market_max_profit.ipynb",
      "provenance": [],
      "collapsed_sections": [],
      "authorship_tag": "ABX9TyOyEJSBo+9PEgl7cd23ZNR7",
      "include_colab_link": true
    },
    "kernelspec": {
      "name": "python3",
      "display_name": "Python 3"
    }
  },
  "cells": [
    {
      "cell_type": "markdown",
      "metadata": {
        "id": "view-in-github",
        "colab_type": "text"
      },
      "source": [
        "<a href=\"https://colab.research.google.com/github/vimalkumarasamy/Python/blob/master/Stock_market_max_profit.ipynb\" target=\"_parent\"><img src=\"https://colab.research.google.com/assets/colab-badge.svg\" alt=\"Open In Colab\"/></a>"
      ]
    },
    {
      "cell_type": "code",
      "metadata": {
        "id": "WKO3SB2vY-En",
        "colab_type": "code",
        "colab": {
          "base_uri": "https://localhost:8080/",
          "height": 34
        },
        "outputId": "103da381-305e-44af-f429-91fe52a6dca8"
      },
      "source": [
        "def maxDiff(arr, arr_size): \n",
        "    max_diff = arr[1] - arr[0] \n",
        "    min_element = arr[0] \n",
        "      \n",
        "    for i in range( 1, arr_size ): \n",
        "        if (arr[i] - min_element > max_diff): \n",
        "            max_diff = arr[i] - min_element\n",
        "            lower=min_element\n",
        "            upper=arr[i] \n",
        "      \n",
        "        if (arr[i] < min_element): \n",
        "            min_element = arr[i] \n",
        "    return max_diff,lower,upper\n",
        "      \n",
        "# Driver program to test above function  \n",
        "arr = [15, 30, 18, 45, 9, 40,35] \n",
        "size = len(arr) \n",
        "print (\"Maximum difference is\",maxDiff(arr, size)) "
      ],
      "execution_count": 11,
      "outputs": [
        {
          "output_type": "stream",
          "text": [
            "Maximum difference is (31, 9, 40)\n"
          ],
          "name": "stdout"
        }
      ]
    },
    {
      "cell_type": "code",
      "metadata": {
        "id": "cWHdl4MTZA9C",
        "colab_type": "code",
        "colab": {}
      },
      "source": [
        ""
      ],
      "execution_count": 0,
      "outputs": []
    }
  ]
}