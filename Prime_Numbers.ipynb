{
  "nbformat": 4,
  "nbformat_minor": 0,
  "metadata": {
    "colab": {
      "name": "Prime_Numbers.ipynb",
      "provenance": [],
      "collapsed_sections": [],
      "authorship_tag": "ABX9TyO2D6CJs6Ajd6DzLwmUTzV4",
      "include_colab_link": true
    },
    "kernelspec": {
      "name": "python3",
      "display_name": "Python 3"
    }
  },
  "cells": [
    {
      "cell_type": "markdown",
      "metadata": {
        "id": "view-in-github",
        "colab_type": "text"
      },
      "source": [
        "<a href=\"https://colab.research.google.com/github/vimalkumarasamy/Python/blob/master/Prime_Numbers.ipynb\" target=\"_parent\"><img src=\"https://colab.research.google.com/assets/colab-badge.svg\" alt=\"Open In Colab\"/></a>"
      ]
    },
    {
      "cell_type": "code",
      "metadata": {
        "id": "LuwibztTFE0m",
        "colab_type": "code",
        "colab": {}
      },
      "source": [
        "import math\n",
        "import numpy as np\n",
        "import time"
      ],
      "execution_count": 0,
      "outputs": []
    },
    {
      "cell_type": "code",
      "metadata": {
        "id": "Bx80UX8VFMIo",
        "colab_type": "code",
        "colab": {}
      },
      "source": [
        "def is_prime(n):\n",
        "  \"\"\"This function returns True if the integer n is a prime number, else False\"\"\"\n",
        "  if n==0 or n==1:\n",
        "    return False\n",
        "  if n%2==0 and n==2:\n",
        "    return True\n",
        "  elif n%2==0 and n>2:\n",
        "    return False\n",
        "  else:\n",
        "    c=math.floor(math.sqrt(n))+1\n",
        "    for i in range(3,c,2):\n",
        "      if n%i==0:\n",
        "        return False \n",
        "    return True"
      ],
      "execution_count": 0,
      "outputs": []
    },
    {
      "cell_type": "code",
      "metadata": {
        "id": "fhWQdaXeF-Ck",
        "colab_type": "code",
        "colab": {}
      },
      "source": [
        "def are_prime(m):\n",
        "  n=m+1\n",
        "  if n<2:\n",
        "    print(\"No prime numbers found\")\n",
        "  for i in range(1,n):\n",
        "    print(i,is_prime(i))"
      ],
      "execution_count": 0,
      "outputs": []
    },
    {
      "cell_type": "code",
      "metadata": {
        "id": "NF3CRH1yG3z9",
        "colab_type": "code",
        "colab": {}
      },
      "source": [
        "def return_prime_within(m):\n",
        "  \"\"\"This function returns a list of numbers that are prime upto m\"\"\"\n",
        "  if m<2:\n",
        "    return []\n",
        "  else:\n",
        "    arr=[]\n",
        "    for i in range(2,m+1):\n",
        "      if is_prime(i):\n",
        "        arr=arr+[i]\n",
        "    return arr"
      ],
      "execution_count": 0,
      "outputs": []
    },
    {
      "cell_type": "code",
      "metadata": {
        "id": "J2gyCHS8HeiX",
        "colab_type": "code",
        "colab": {
          "base_uri": "https://localhost:8080/",
          "height": 35
        },
        "outputId": "4140f193-9d31-488b-ea54-43df905997ba"
      },
      "source": [
        "return_prime_within(10)"
      ],
      "execution_count": 35,
      "outputs": [
        {
          "output_type": "execute_result",
          "data": {
            "text/plain": [
              "[2, 3, 5, 7]"
            ]
          },
          "metadata": {
            "tags": []
          },
          "execution_count": 35
        }
      ]
    },
    {
      "cell_type": "code",
      "metadata": {
        "id": "LSkBBC-UHgXX",
        "colab_type": "code",
        "colab": {
          "base_uri": "https://localhost:8080/",
          "height": 35
        },
        "outputId": "8d5c5a9a-e9c5-4de9-fb3b-ef56fc070253"
      },
      "source": [
        "start=time.time()\n",
        "x=return_prime_within(1000000)\n",
        "end=time.time()\n",
        "print(end-start)"
      ],
      "execution_count": 36,
      "outputs": [
        {
          "output_type": "stream",
          "text": [
            "15.799381732940674\n"
          ],
          "name": "stdout"
        }
      ]
    },
    {
      "cell_type": "code",
      "metadata": {
        "id": "wQq8HvohIK2u",
        "colab_type": "code",
        "colab": {
          "base_uri": "https://localhost:8080/",
          "height": 35
        },
        "outputId": "acd4cf8f-aa0f-409a-fc4e-cf91c0a5b886"
      },
      "source": [
        "len(x)/1000000"
      ],
      "execution_count": 39,
      "outputs": [
        {
          "output_type": "execute_result",
          "data": {
            "text/plain": [
              "0.078498"
            ]
          },
          "metadata": {
            "tags": []
          },
          "execution_count": 39
        }
      ]
    },
    {
      "cell_type": "code",
      "metadata": {
        "id": "sZagrcfgIuZb",
        "colab_type": "code",
        "colab": {}
      },
      "source": [
        ""
      ],
      "execution_count": 0,
      "outputs": []
    }
  ]
}