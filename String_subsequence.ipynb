{
  "nbformat": 4,
  "nbformat_minor": 0,
  "metadata": {
    "colab": {
      "name": "String_subsequence.ipynb",
      "provenance": [],
      "authorship_tag": "ABX9TyNwmzUo57RSKywLYfylQnig",
      "include_colab_link": true
    },
    "kernelspec": {
      "name": "python3",
      "display_name": "Python 3"
    }
  },
  "cells": [
    {
      "cell_type": "markdown",
      "metadata": {
        "id": "view-in-github",
        "colab_type": "text"
      },
      "source": [
        "<a href=\"https://colab.research.google.com/github/vimalkumarasamy/Python/blob/master/String_subsequence.ipynb\" target=\"_parent\"><img src=\"https://colab.research.google.com/assets/colab-badge.svg\" alt=\"Open In Colab\"/></a>"
      ]
    },
    {
      "cell_type": "code",
      "metadata": {
        "id": "twJoH0IYc9Qu",
        "colab_type": "code",
        "colab": {
          "base_uri": "https://localhost:8080/",
          "height": 34
        },
        "outputId": "d995ae0a-3f16-4a2a-b9a5-70d854c84777"
      },
      "source": [
        "stringA='geeks'\n",
        "stringB='GeeksforGeeks'\n",
        "\n",
        "i = j = 0\n",
        "stringALength = len(stringA)\n",
        "stringBLength = len(stringB)\n",
        "\n",
        "while (i < stringALength) and (j < stringBLength):\n",
        "    if stringA[i] == stringB[j]:\n",
        "        i += 1\n",
        "    j += 1\n",
        "    \n",
        "if i == stringALength:\n",
        "    print(1)\n",
        "else:\n",
        "    print(0)"
      ],
      "execution_count": 5,
      "outputs": [
        {
          "output_type": "stream",
          "text": [
            "0\n"
          ],
          "name": "stdout"
        }
      ]
    },
    {
      "cell_type": "code",
      "metadata": {
        "id": "LjGO9BUCdBeK",
        "colab_type": "code",
        "colab": {}
      },
      "source": [
        ""
      ],
      "execution_count": 0,
      "outputs": []
    }
  ]
}