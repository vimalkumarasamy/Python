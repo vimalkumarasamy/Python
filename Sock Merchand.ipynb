{
 "cells": [
  {
   "cell_type": "markdown",
   "metadata": {},
   "source": [
    "John works at a clothing store. He has a large pile of socks that he must pair by color for sale. Given an array of integers representing the color of each sock, determine how many pairs of socks with matching colors there are.\n",
    "\n",
    "For example, there are  socks with colors . There is one pair of color  and one of color . There are three odd socks left, one of each color. The number of pairs is .\n",
    "\n",
    "Function Description\n",
    "\n",
    "Complete the sockMerchant function in the editor below. It must return an integer representing the number of matching pairs of socks that are available.\n",
    "\n",
    "sockMerchant has the following parameter(s):\n",
    "\n",
    "n: the number of socks in the pile\n",
    "ar: the colors of each sock\n",
    "Input Format\n",
    "\n",
    "The first line contains an integer , the number of socks represented in .\n",
    "The second line contains  space-separated integers describing the colors  of the socks in the pile.\n",
    "\n",
    "Constraints\n",
    "\n",
    " where \n",
    "Output Format\n",
    "\n",
    "Return the total number of matching pairs of socks that John can sell.\n",
    "\n",
    "Sample Input\n",
    "\n",
    "9\n",
    "10 20 20 10 10 30 50 10 20\n",
    "Sample Output\n",
    "\n",
    "3"
   ]
  },
  {
   "cell_type": "code",
   "execution_count": 7,
   "metadata": {},
   "outputs": [],
   "source": [
    "# checking how break statement works inside a nested for loop"
   ]
  },
  {
   "cell_type": "code",
   "execution_count": 8,
   "metadata": {},
   "outputs": [
    {
     "name": "stdout",
     "output_type": "stream",
     "text": [
      "i  0\n",
      "j  0\n",
      "j  1\n",
      "j  2\n",
      "j  3\n",
      "i  1\n",
      "j  0\n",
      "j  1\n",
      "j  2\n",
      "j  3\n"
     ]
    }
   ],
   "source": [
    "for i in range(2):\n",
    "    print(\"i \",i)\n",
    "    for j in range(5):\n",
    "        if j>3:\n",
    "            break\n",
    "        print(\"j \",j)"
   ]
  },
  {
   "cell_type": "code",
   "execution_count": 12,
   "metadata": {},
   "outputs": [],
   "source": [
    "def sockMerchant(n, ar):\n",
    "    socks=ar\n",
    "    pairs=0\n",
    "    for i in range(n):\n",
    "        for j in range(i+1,n):\n",
    "            if socks[i]==socks[j] and socks[i]!=0:\n",
    "                socks[i]=0\n",
    "                socks[j]=0\n",
    "                pairs+=1\n",
    "    return(pairs)\n",
    "    "
   ]
  },
  {
   "cell_type": "code",
   "execution_count": 14,
   "metadata": {},
   "outputs": [
    {
     "data": {
      "text/plain": [
       "4"
      ]
     },
     "execution_count": 14,
     "metadata": {},
     "output_type": "execute_result"
    }
   ],
   "source": [
    "sockMerchant(10, [20,20,30,30,60,60,40,50,50,50])"
   ]
  },
  {
   "cell_type": "code",
   "execution_count": null,
   "metadata": {},
   "outputs": [],
   "source": []
  }
 ],
 "metadata": {
  "kernelspec": {
   "display_name": "Python 3",
   "language": "python",
   "name": "python3"
  },
  "language_info": {
   "codemirror_mode": {
    "name": "ipython",
    "version": 3
   },
   "file_extension": ".py",
   "mimetype": "text/x-python",
   "name": "python",
   "nbconvert_exporter": "python",
   "pygments_lexer": "ipython3",
   "version": "3.7.3"
  }
 },
 "nbformat": 4,
 "nbformat_minor": 2
}
