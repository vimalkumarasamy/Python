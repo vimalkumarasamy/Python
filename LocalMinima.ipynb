{
  "nbformat": 4,
  "nbformat_minor": 0,
  "metadata": {
    "colab": {
      "name": "LocalMinima.ipynb",
      "provenance": [],
      "collapsed_sections": [],
      "authorship_tag": "ABX9TyM9TGV+XMrJ1kD7WjEtjjsS",
      "include_colab_link": true
    },
    "kernelspec": {
      "name": "python3",
      "display_name": "Python 3"
    }
  },
  "cells": [
    {
      "cell_type": "markdown",
      "metadata": {
        "id": "view-in-github",
        "colab_type": "text"
      },
      "source": [
        "<a href=\"https://colab.research.google.com/github/vimalkumarasamy/Python/blob/master/LocalMinima.ipynb\" target=\"_parent\"><img src=\"https://colab.research.google.com/assets/colab-badge.svg\" alt=\"Open In Colab\"/></a>"
      ]
    },
    {
      "cell_type": "code",
      "metadata": {
        "id": "zchqMMyUOU1z",
        "colab_type": "code",
        "colab": {
          "base_uri": "https://localhost:8080/",
          "height": 34
        },
        "outputId": "f306bf97-d999-40c5-8c3b-ea3a95f65041"
      },
      "source": [
        "def localMinUtil(arr, low, high, n): \n",
        "          \n",
        "    # Find index of middle element \n",
        "    mid = low + (high - low) // 2  \n",
        "          \n",
        "    # Compare middle element with its  \n",
        "    # neighbours (if neighbours exist) \n",
        "    if(mid == 0 or arr[mid - 1] > arr[mid] and\n",
        "       mid == n - 1 or arr[mid] < arr[mid + 1]): \n",
        "        return mid \n",
        "          \n",
        "    # If middle element is not minima and its left \n",
        "    # neighbour is smaller than it, then left half \n",
        "    # must have a local minima. \n",
        "    elif(mid > 0 and arr[mid - 1] < arr[mid]): \n",
        "        return localMinUtil(arr, low, mid - 1, n) \n",
        "          \n",
        "    # If middle element is not minima and its right \n",
        "    # neighbour is smaller than it, then right half \n",
        "    # must have a local minima. \n",
        "    return localMinUtil(arr, mid + 1, high, n) \n",
        "      \n",
        "# A wrapper over recursive function localMinUtil() \n",
        "def localMin(arr, n): \n",
        "      \n",
        "    return localMinUtil(arr, 0, n - 1, n) \n",
        "      \n",
        "# Driver code \n",
        "arr = [4, 3, 1, 14, 16, 40] \n",
        "n = len(arr) \n",
        "print(\"Index of a local minima is \" , \n",
        "                    localMin(arr, n)) \n",
        "                      "
      ],
      "execution_count": 1,
      "outputs": [
        {
          "output_type": "stream",
          "text": [
            "Index of a local minima is  2\n"
          ],
          "name": "stdout"
        }
      ]
    },
    {
      "cell_type": "code",
      "metadata": {
        "id": "ibPa4AWKOYCk",
        "colab_type": "code",
        "colab": {
          "base_uri": "https://localhost:8080/",
          "height": 34
        },
        "outputId": "c71afa78-c089-4b23-bc7e-88eb05526b82"
      },
      "source": [
        "arr = [1,2,1] \n",
        "n = len(arr) \n",
        "print(\"Index of a local minima is \" , localMin(arr, n)) "
      ],
      "execution_count": 2,
      "outputs": [
        {
          "output_type": "stream",
          "text": [
            "Index of a local minima is  0\n"
          ],
          "name": "stdout"
        }
      ]
    },
    {
      "cell_type": "code",
      "metadata": {
        "id": "Lo74aoFoOgOp",
        "colab_type": "code",
        "colab": {}
      },
      "source": [
        ""
      ],
      "execution_count": 0,
      "outputs": []
    }
  ]
}